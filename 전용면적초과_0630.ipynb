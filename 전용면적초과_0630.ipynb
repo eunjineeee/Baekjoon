{
  "cells": [
    {
      "cell_type": "code",
      "execution_count": null,
      "id": "2eb44b6d",
      "metadata": {
        "id": "2eb44b6d"
      },
      "outputs": [],
      "source": [
        "import pandas as pd\n",
        "import numpy as np\n",
        "import matplotlib.pyplot as plt\n",
        "import seaborn as sns"
      ]
    },
    {
      "cell_type": "markdown",
      "id": "2c3c05a6",
      "metadata": {
        "id": "2c3c05a6"
      },
      "source": [
        "# DF 불러오기"
      ]
    },
    {
      "cell_type": "code",
      "execution_count": null,
      "id": "d2178a1a",
      "metadata": {
        "colab": {
          "base_uri": "https://localhost:8080/",
          "height": 974
        },
        "id": "d2178a1a",
        "outputId": "8053106a-7710-4e1e-a7be-a94aaba983cd"
      },
      "outputs": [
        {
          "output_type": "execute_result",
          "data": {
            "text/plain": [
              "        자치구         계약일  건물면적(㎡)   층      KOSPI종가  Fed기준금리  국제유가(Dubai)($/배럴)  \\\n",
              "0       은평구  2016-01-01   101.97   9  1961.310059     0.34               26.9   \n",
              "1       관악구  2016-01-01   105.36   1  1961.310059     0.34               26.9   \n",
              "2       동작구  2016-01-01   109.70   9  1961.310059     0.34               26.9   \n",
              "3       은평구  2016-01-01   134.87   3  1961.310059     0.34               26.9   \n",
              "4       서초구  2016-01-01   134.36  12  1961.310059     0.34               26.9   \n",
              "...     ...         ...      ...  ..          ...      ...                ...   \n",
              "100076  성동구  2022-12-30   148.23  12  2236.399902     4.10               77.2   \n",
              "100077  용산구  2022-12-30   114.60  15  2236.399902     4.10               77.2   \n",
              "100078  강남구  2022-12-30   144.20   8  2236.399902     4.10               77.2   \n",
              "100079  송파구  2022-12-31   100.82   1  2236.399902     4.10               77.2   \n",
              "100080  서초구  2022-12-31   152.33   9  2236.399902     4.10               77.2   \n",
              "\n",
              "        부동산거래량  국고채5년(평균)  국고채10년(평균)  ...  BOK기준금리  건물연식  GDP대비가계부채비율  \\\n",
              "0         9894       1.77        2.03  ...     1.50     6         83.3   \n",
              "1         9894       1.77        2.03  ...     1.50    23         83.3   \n",
              "2         9894       1.77        2.03  ...     1.50    13         83.3   \n",
              "3         9894       1.77        2.03  ...     1.50     6         83.3   \n",
              "4         9894       1.77        2.03  ...     1.50    11         83.3   \n",
              "...        ...        ...         ...  ...      ...   ...          ...   \n",
              "100076    3698       3.59        3.54  ...     3.25    36        105.0   \n",
              "100077    3698       3.59        3.54  ...     3.25    24        105.0   \n",
              "100078    3698       3.59        3.54  ...     3.25    44        105.0   \n",
              "100079    3698       3.59        3.54  ...     3.25    34        105.0   \n",
              "100080    3698       3.59        3.54  ...     3.25    18        105.0   \n",
              "\n",
              "           환율종가  선행지수순환변동치         EPU  장단기금리spread     금값종가  LTV  물건금액(만원)  \n",
              "0       1175.45       99.6  177.148845         0.14  1060.74  0.7     67600  \n",
              "1       1175.45       99.6  177.148845         0.14  1060.74  0.7     37300  \n",
              "2       1175.45       99.6  177.148845         0.14  1060.74  0.7     49000  \n",
              "3       1175.45       99.6  177.148845         0.14  1060.74  0.7     74000  \n",
              "4       1175.45       99.6  177.148845         0.14  1060.74  0.7     94000  \n",
              "...         ...        ...         ...          ...      ...  ...       ...  \n",
              "100076  1260.92       99.1  169.662386         0.39  1824.40  0.0    180000  \n",
              "100077  1260.92       99.1  169.662386         0.39  1824.40  0.0    215000  \n",
              "100078  1260.92       99.1  169.662386         0.39  1824.40  0.0    430000  \n",
              "100079  1260.92       99.1  169.662386         0.39  1824.40  0.0    185000  \n",
              "100080  1260.92       99.1  169.662386         0.39  1824.40  0.0    250000  \n",
              "\n",
              "[100081 rows x 22 columns]"
            ],
            "text/html": [
              "\n",
              "  <div id=\"df-c6720da1-061b-4189-8c95-5f1c5e50dec5\">\n",
              "    <div class=\"colab-df-container\">\n",
              "      <div>\n",
              "<style scoped>\n",
              "    .dataframe tbody tr th:only-of-type {\n",
              "        vertical-align: middle;\n",
              "    }\n",
              "\n",
              "    .dataframe tbody tr th {\n",
              "        vertical-align: top;\n",
              "    }\n",
              "\n",
              "    .dataframe thead th {\n",
              "        text-align: right;\n",
              "    }\n",
              "</style>\n",
              "<table border=\"1\" class=\"dataframe\">\n",
              "  <thead>\n",
              "    <tr style=\"text-align: right;\">\n",
              "      <th></th>\n",
              "      <th>자치구</th>\n",
              "      <th>계약일</th>\n",
              "      <th>건물면적(㎡)</th>\n",
              "      <th>층</th>\n",
              "      <th>KOSPI종가</th>\n",
              "      <th>Fed기준금리</th>\n",
              "      <th>국제유가(Dubai)($/배럴)</th>\n",
              "      <th>부동산거래량</th>\n",
              "      <th>국고채5년(평균)</th>\n",
              "      <th>국고채10년(평균)</th>\n",
              "      <th>...</th>\n",
              "      <th>BOK기준금리</th>\n",
              "      <th>건물연식</th>\n",
              "      <th>GDP대비가계부채비율</th>\n",
              "      <th>환율종가</th>\n",
              "      <th>선행지수순환변동치</th>\n",
              "      <th>EPU</th>\n",
              "      <th>장단기금리spread</th>\n",
              "      <th>금값종가</th>\n",
              "      <th>LTV</th>\n",
              "      <th>물건금액(만원)</th>\n",
              "    </tr>\n",
              "  </thead>\n",
              "  <tbody>\n",
              "    <tr>\n",
              "      <th>0</th>\n",
              "      <td>은평구</td>\n",
              "      <td>2016-01-01</td>\n",
              "      <td>101.97</td>\n",
              "      <td>9</td>\n",
              "      <td>1961.310059</td>\n",
              "      <td>0.34</td>\n",
              "      <td>26.9</td>\n",
              "      <td>9894</td>\n",
              "      <td>1.77</td>\n",
              "      <td>2.03</td>\n",
              "      <td>...</td>\n",
              "      <td>1.50</td>\n",
              "      <td>6</td>\n",
              "      <td>83.3</td>\n",
              "      <td>1175.45</td>\n",
              "      <td>99.6</td>\n",
              "      <td>177.148845</td>\n",
              "      <td>0.14</td>\n",
              "      <td>1060.74</td>\n",
              "      <td>0.7</td>\n",
              "      <td>67600</td>\n",
              "    </tr>\n",
              "    <tr>\n",
              "      <th>1</th>\n",
              "      <td>관악구</td>\n",
              "      <td>2016-01-01</td>\n",
              "      <td>105.36</td>\n",
              "      <td>1</td>\n",
              "      <td>1961.310059</td>\n",
              "      <td>0.34</td>\n",
              "      <td>26.9</td>\n",
              "      <td>9894</td>\n",
              "      <td>1.77</td>\n",
              "      <td>2.03</td>\n",
              "      <td>...</td>\n",
              "      <td>1.50</td>\n",
              "      <td>23</td>\n",
              "      <td>83.3</td>\n",
              "      <td>1175.45</td>\n",
              "      <td>99.6</td>\n",
              "      <td>177.148845</td>\n",
              "      <td>0.14</td>\n",
              "      <td>1060.74</td>\n",
              "      <td>0.7</td>\n",
              "      <td>37300</td>\n",
              "    </tr>\n",
              "    <tr>\n",
              "      <th>2</th>\n",
              "      <td>동작구</td>\n",
              "      <td>2016-01-01</td>\n",
              "      <td>109.70</td>\n",
              "      <td>9</td>\n",
              "      <td>1961.310059</td>\n",
              "      <td>0.34</td>\n",
              "      <td>26.9</td>\n",
              "      <td>9894</td>\n",
              "      <td>1.77</td>\n",
              "      <td>2.03</td>\n",
              "      <td>...</td>\n",
              "      <td>1.50</td>\n",
              "      <td>13</td>\n",
              "      <td>83.3</td>\n",
              "      <td>1175.45</td>\n",
              "      <td>99.6</td>\n",
              "      <td>177.148845</td>\n",
              "      <td>0.14</td>\n",
              "      <td>1060.74</td>\n",
              "      <td>0.7</td>\n",
              "      <td>49000</td>\n",
              "    </tr>\n",
              "    <tr>\n",
              "      <th>3</th>\n",
              "      <td>은평구</td>\n",
              "      <td>2016-01-01</td>\n",
              "      <td>134.87</td>\n",
              "      <td>3</td>\n",
              "      <td>1961.310059</td>\n",
              "      <td>0.34</td>\n",
              "      <td>26.9</td>\n",
              "      <td>9894</td>\n",
              "      <td>1.77</td>\n",
              "      <td>2.03</td>\n",
              "      <td>...</td>\n",
              "      <td>1.50</td>\n",
              "      <td>6</td>\n",
              "      <td>83.3</td>\n",
              "      <td>1175.45</td>\n",
              "      <td>99.6</td>\n",
              "      <td>177.148845</td>\n",
              "      <td>0.14</td>\n",
              "      <td>1060.74</td>\n",
              "      <td>0.7</td>\n",
              "      <td>74000</td>\n",
              "    </tr>\n",
              "    <tr>\n",
              "      <th>4</th>\n",
              "      <td>서초구</td>\n",
              "      <td>2016-01-01</td>\n",
              "      <td>134.36</td>\n",
              "      <td>12</td>\n",
              "      <td>1961.310059</td>\n",
              "      <td>0.34</td>\n",
              "      <td>26.9</td>\n",
              "      <td>9894</td>\n",
              "      <td>1.77</td>\n",
              "      <td>2.03</td>\n",
              "      <td>...</td>\n",
              "      <td>1.50</td>\n",
              "      <td>11</td>\n",
              "      <td>83.3</td>\n",
              "      <td>1175.45</td>\n",
              "      <td>99.6</td>\n",
              "      <td>177.148845</td>\n",
              "      <td>0.14</td>\n",
              "      <td>1060.74</td>\n",
              "      <td>0.7</td>\n",
              "      <td>94000</td>\n",
              "    </tr>\n",
              "    <tr>\n",
              "      <th>...</th>\n",
              "      <td>...</td>\n",
              "      <td>...</td>\n",
              "      <td>...</td>\n",
              "      <td>...</td>\n",
              "      <td>...</td>\n",
              "      <td>...</td>\n",
              "      <td>...</td>\n",
              "      <td>...</td>\n",
              "      <td>...</td>\n",
              "      <td>...</td>\n",
              "      <td>...</td>\n",
              "      <td>...</td>\n",
              "      <td>...</td>\n",
              "      <td>...</td>\n",
              "      <td>...</td>\n",
              "      <td>...</td>\n",
              "      <td>...</td>\n",
              "      <td>...</td>\n",
              "      <td>...</td>\n",
              "      <td>...</td>\n",
              "      <td>...</td>\n",
              "    </tr>\n",
              "    <tr>\n",
              "      <th>100076</th>\n",
              "      <td>성동구</td>\n",
              "      <td>2022-12-30</td>\n",
              "      <td>148.23</td>\n",
              "      <td>12</td>\n",
              "      <td>2236.399902</td>\n",
              "      <td>4.10</td>\n",
              "      <td>77.2</td>\n",
              "      <td>3698</td>\n",
              "      <td>3.59</td>\n",
              "      <td>3.54</td>\n",
              "      <td>...</td>\n",
              "      <td>3.25</td>\n",
              "      <td>36</td>\n",
              "      <td>105.0</td>\n",
              "      <td>1260.92</td>\n",
              "      <td>99.1</td>\n",
              "      <td>169.662386</td>\n",
              "      <td>0.39</td>\n",
              "      <td>1824.40</td>\n",
              "      <td>0.0</td>\n",
              "      <td>180000</td>\n",
              "    </tr>\n",
              "    <tr>\n",
              "      <th>100077</th>\n",
              "      <td>용산구</td>\n",
              "      <td>2022-12-30</td>\n",
              "      <td>114.60</td>\n",
              "      <td>15</td>\n",
              "      <td>2236.399902</td>\n",
              "      <td>4.10</td>\n",
              "      <td>77.2</td>\n",
              "      <td>3698</td>\n",
              "      <td>3.59</td>\n",
              "      <td>3.54</td>\n",
              "      <td>...</td>\n",
              "      <td>3.25</td>\n",
              "      <td>24</td>\n",
              "      <td>105.0</td>\n",
              "      <td>1260.92</td>\n",
              "      <td>99.1</td>\n",
              "      <td>169.662386</td>\n",
              "      <td>0.39</td>\n",
              "      <td>1824.40</td>\n",
              "      <td>0.0</td>\n",
              "      <td>215000</td>\n",
              "    </tr>\n",
              "    <tr>\n",
              "      <th>100078</th>\n",
              "      <td>강남구</td>\n",
              "      <td>2022-12-30</td>\n",
              "      <td>144.20</td>\n",
              "      <td>8</td>\n",
              "      <td>2236.399902</td>\n",
              "      <td>4.10</td>\n",
              "      <td>77.2</td>\n",
              "      <td>3698</td>\n",
              "      <td>3.59</td>\n",
              "      <td>3.54</td>\n",
              "      <td>...</td>\n",
              "      <td>3.25</td>\n",
              "      <td>44</td>\n",
              "      <td>105.0</td>\n",
              "      <td>1260.92</td>\n",
              "      <td>99.1</td>\n",
              "      <td>169.662386</td>\n",
              "      <td>0.39</td>\n",
              "      <td>1824.40</td>\n",
              "      <td>0.0</td>\n",
              "      <td>430000</td>\n",
              "    </tr>\n",
              "    <tr>\n",
              "      <th>100079</th>\n",
              "      <td>송파구</td>\n",
              "      <td>2022-12-31</td>\n",
              "      <td>100.82</td>\n",
              "      <td>1</td>\n",
              "      <td>2236.399902</td>\n",
              "      <td>4.10</td>\n",
              "      <td>77.2</td>\n",
              "      <td>3698</td>\n",
              "      <td>3.59</td>\n",
              "      <td>3.54</td>\n",
              "      <td>...</td>\n",
              "      <td>3.25</td>\n",
              "      <td>34</td>\n",
              "      <td>105.0</td>\n",
              "      <td>1260.92</td>\n",
              "      <td>99.1</td>\n",
              "      <td>169.662386</td>\n",
              "      <td>0.39</td>\n",
              "      <td>1824.40</td>\n",
              "      <td>0.0</td>\n",
              "      <td>185000</td>\n",
              "    </tr>\n",
              "    <tr>\n",
              "      <th>100080</th>\n",
              "      <td>서초구</td>\n",
              "      <td>2022-12-31</td>\n",
              "      <td>152.33</td>\n",
              "      <td>9</td>\n",
              "      <td>2236.399902</td>\n",
              "      <td>4.10</td>\n",
              "      <td>77.2</td>\n",
              "      <td>3698</td>\n",
              "      <td>3.59</td>\n",
              "      <td>3.54</td>\n",
              "      <td>...</td>\n",
              "      <td>3.25</td>\n",
              "      <td>18</td>\n",
              "      <td>105.0</td>\n",
              "      <td>1260.92</td>\n",
              "      <td>99.1</td>\n",
              "      <td>169.662386</td>\n",
              "      <td>0.39</td>\n",
              "      <td>1824.40</td>\n",
              "      <td>0.0</td>\n",
              "      <td>250000</td>\n",
              "    </tr>\n",
              "  </tbody>\n",
              "</table>\n",
              "<p>100081 rows × 22 columns</p>\n",
              "</div>\n",
              "      <button class=\"colab-df-convert\" onclick=\"convertToInteractive('df-c6720da1-061b-4189-8c95-5f1c5e50dec5')\"\n",
              "              title=\"Convert this dataframe to an interactive table.\"\n",
              "              style=\"display:none;\">\n",
              "        \n",
              "  <svg xmlns=\"http://www.w3.org/2000/svg\" height=\"24px\"viewBox=\"0 0 24 24\"\n",
              "       width=\"24px\">\n",
              "    <path d=\"M0 0h24v24H0V0z\" fill=\"none\"/>\n",
              "    <path d=\"M18.56 5.44l.94 2.06.94-2.06 2.06-.94-2.06-.94-.94-2.06-.94 2.06-2.06.94zm-11 1L8.5 8.5l.94-2.06 2.06-.94-2.06-.94L8.5 2.5l-.94 2.06-2.06.94zm10 10l.94 2.06.94-2.06 2.06-.94-2.06-.94-.94-2.06-.94 2.06-2.06.94z\"/><path d=\"M17.41 7.96l-1.37-1.37c-.4-.4-.92-.59-1.43-.59-.52 0-1.04.2-1.43.59L10.3 9.45l-7.72 7.72c-.78.78-.78 2.05 0 2.83L4 21.41c.39.39.9.59 1.41.59.51 0 1.02-.2 1.41-.59l7.78-7.78 2.81-2.81c.8-.78.8-2.07 0-2.86zM5.41 20L4 18.59l7.72-7.72 1.47 1.35L5.41 20z\"/>\n",
              "  </svg>\n",
              "      </button>\n",
              "      \n",
              "  <style>\n",
              "    .colab-df-container {\n",
              "      display:flex;\n",
              "      flex-wrap:wrap;\n",
              "      gap: 12px;\n",
              "    }\n",
              "\n",
              "    .colab-df-convert {\n",
              "      background-color: #E8F0FE;\n",
              "      border: none;\n",
              "      border-radius: 50%;\n",
              "      cursor: pointer;\n",
              "      display: none;\n",
              "      fill: #1967D2;\n",
              "      height: 32px;\n",
              "      padding: 0 0 0 0;\n",
              "      width: 32px;\n",
              "    }\n",
              "\n",
              "    .colab-df-convert:hover {\n",
              "      background-color: #E2EBFA;\n",
              "      box-shadow: 0px 1px 2px rgba(60, 64, 67, 0.3), 0px 1px 3px 1px rgba(60, 64, 67, 0.15);\n",
              "      fill: #174EA6;\n",
              "    }\n",
              "\n",
              "    [theme=dark] .colab-df-convert {\n",
              "      background-color: #3B4455;\n",
              "      fill: #D2E3FC;\n",
              "    }\n",
              "\n",
              "    [theme=dark] .colab-df-convert:hover {\n",
              "      background-color: #434B5C;\n",
              "      box-shadow: 0px 1px 3px 1px rgba(0, 0, 0, 0.15);\n",
              "      filter: drop-shadow(0px 1px 2px rgba(0, 0, 0, 0.3));\n",
              "      fill: #FFFFFF;\n",
              "    }\n",
              "  </style>\n",
              "\n",
              "      <script>\n",
              "        const buttonEl =\n",
              "          document.querySelector('#df-c6720da1-061b-4189-8c95-5f1c5e50dec5 button.colab-df-convert');\n",
              "        buttonEl.style.display =\n",
              "          google.colab.kernel.accessAllowed ? 'block' : 'none';\n",
              "\n",
              "        async function convertToInteractive(key) {\n",
              "          const element = document.querySelector('#df-c6720da1-061b-4189-8c95-5f1c5e50dec5');\n",
              "          const dataTable =\n",
              "            await google.colab.kernel.invokeFunction('convertToInteractive',\n",
              "                                                     [key], {});\n",
              "          if (!dataTable) return;\n",
              "\n",
              "          const docLinkHtml = 'Like what you see? Visit the ' +\n",
              "            '<a target=\"_blank\" href=https://colab.research.google.com/notebooks/data_table.ipynb>data table notebook</a>'\n",
              "            + ' to learn more about interactive tables.';\n",
              "          element.innerHTML = '';\n",
              "          dataTable['output_type'] = 'display_data';\n",
              "          await google.colab.output.renderOutput(dataTable, element);\n",
              "          const docLink = document.createElement('div');\n",
              "          docLink.innerHTML = docLinkHtml;\n",
              "          element.appendChild(docLink);\n",
              "        }\n",
              "      </script>\n",
              "    </div>\n",
              "  </div>\n",
              "  "
            ]
          },
          "metadata": {},
          "execution_count": 15
        }
      ],
      "source": [
        "df = pd.read_csv('/content/sample_data/전용면적_85초과.csv')\n",
        "df"
      ]
    },
    {
      "cell_type": "markdown",
      "id": "2c2cf23c",
      "metadata": {
        "id": "2c2cf23c"
      },
      "source": [
        "# 건물면적 컬럼 제거\n"
      ]
    },
    {
      "cell_type": "code",
      "execution_count": null,
      "id": "9172d4fc",
      "metadata": {
        "id": "9172d4fc"
      },
      "outputs": [],
      "source": [
        "df.drop('건물면적(㎡)',axis=1,inplace=True)"
      ]
    },
    {
      "cell_type": "markdown",
      "id": "a380a011",
      "metadata": {
        "id": "a380a011"
      },
      "source": [
        "# Train/Test Split\n"
      ]
    },
    {
      "cell_type": "code",
      "execution_count": null,
      "id": "b7ff05c2",
      "metadata": {
        "id": "b7ff05c2"
      },
      "outputs": [],
      "source": [
        "# Train : 2016-2020\n",
        "# Test : 2021-2022\n",
        "\n",
        "df['계약일'] = pd.to_datetime(df['계약일'])\n",
        "train_df = df.loc[df['계약일'] < '2021']\n",
        "test_df = df.loc[df['계약일'] >= '2021']"
      ]
    },
    {
      "cell_type": "markdown",
      "id": "74e9a26e",
      "metadata": {
        "id": "74e9a26e"
      },
      "source": [
        "## feature & target split"
      ]
    },
    {
      "cell_type": "code",
      "execution_count": null,
      "id": "f8679ef8",
      "metadata": {
        "id": "f8679ef8"
      },
      "outputs": [],
      "source": [
        "# Train Split\n",
        "# feature & target  split\n",
        "\n",
        "X_train_df = train_df.drop('물건금액(만원)', axis=1)\n",
        "y = train_df['물건금액(만원)']\n",
        "\n",
        "# X_train : 숫자형 컬럼만\n",
        "X_train = X_train_df.select_dtypes([np.number])"
      ]
    },
    {
      "cell_type": "code",
      "source": [
        "# Test Split\n",
        "# feature & target  split\n",
        "\n",
        "X_test_df = test_df.drop('물건금액(만원)', axis=1)\n",
        "y_test = test_df['물건금액(만원)']\n",
        "\n",
        "# X_test : 숫자형 컬럼만\n",
        "X_test = X_test_df.select_dtypes([np.number])"
      ],
      "metadata": {
        "id": "vcfMUh3E6gS4"
      },
      "id": "vcfMUh3E6gS4",
      "execution_count": null,
      "outputs": []
    },
    {
      "cell_type": "markdown",
      "metadata": {
        "id": "FWop6rbT3_jc"
      },
      "source": [
        "# Scaling\n",
        "1. Features - minMax\n",
        "2. Target - Log"
      ],
      "id": "FWop6rbT3_jc"
    },
    {
      "cell_type": "code",
      "execution_count": null,
      "id": "863a2296",
      "metadata": {
        "id": "863a2296"
      },
      "outputs": [],
      "source": [
        "# minMax\n",
        "from sklearn.preprocessing import MinMaxScaler\n",
        "\n",
        "# Scaler 객체 생성\n",
        "scaler = MinMaxScaler()\n",
        "X_scaled = scaler.fit_transform(X_train)\n",
        "X_test_scaled = scaler.transform(X_test)\n",
        "\n",
        "# DataFrame\n",
        "X_scaled = pd.DataFrame(X_scaled, columns=X_train.columns)\n",
        "X_test_scaled = pd.DataFrame(X_test_scaled, columns=X_test.columns)"
      ]
    },
    {
      "cell_type": "code",
      "execution_count": null,
      "id": "ec03f25e",
      "metadata": {
        "id": "ec03f25e",
        "outputId": "ce056827-6307-4cdb-8853-a83a308a8198",
        "colab": {
          "base_uri": "https://localhost:8080/"
        }
      },
      "outputs": [
        {
          "output_type": "execute_result",
          "data": {
            "text/plain": [
              "87518     5.033424\n",
              "87519     5.439333\n",
              "87520     4.995635\n",
              "87521     5.332438\n",
              "87522     5.250420\n",
              "            ...   \n",
              "100076    5.255273\n",
              "100077    5.332438\n",
              "100078    5.633468\n",
              "100079    5.267172\n",
              "100080    5.397940\n",
              "Name: 물건금액(만원), Length: 12563, dtype: float64"
            ]
          },
          "metadata": {},
          "execution_count": 21
        }
      ],
      "source": [
        "# y -> log 변환\n",
        "\n",
        "# Train\n",
        "y_scaled = np.log10(y)\n",
        "# y_scaled\n",
        "\n",
        "# Test\n",
        "y_test_scaled = np.log10(y_test)\n",
        "y_test_scaled"
      ]
    },
    {
      "cell_type": "markdown",
      "id": "1ee6d93b",
      "metadata": {
        "id": "1ee6d93b"
      },
      "source": [
        "# OLS - Scaling 후"
      ]
    },
    {
      "cell_type": "markdown",
      "id": "59f98f4c",
      "metadata": {
        "id": "59f98f4c"
      },
      "source": [
        "## OLS_1"
      ]
    },
    {
      "cell_type": "code",
      "execution_count": null,
      "id": "e293b698",
      "metadata": {
        "id": "e293b698",
        "outputId": "fbf720c6-7096-4ed8-877f-acf350e55f56",
        "colab": {
          "base_uri": "https://localhost:8080/",
          "height": 772
        }
      },
      "outputs": [
        {
          "output_type": "execute_result",
          "data": {
            "text/plain": [
              "<class 'statsmodels.iolib.summary.Summary'>\n",
              "\"\"\"\n",
              "                            OLS Regression Results                            \n",
              "==============================================================================\n",
              "Dep. Variable:               물건금액(만원)   R-squared:                       0.198\n",
              "Model:                            OLS   Adj. R-squared:                  0.197\n",
              "Method:                 Least Squares   F-statistic:                     1346.\n",
              "Date:                Sat, 01 Jul 2023   Prob (F-statistic):               0.00\n",
              "Time:                        10:08:57   Log-Likelihood:                 12087.\n",
              "No. Observations:               87518   AIC:                        -2.414e+04\n",
              "Df Residuals:                   87501   BIC:                        -2.398e+04\n",
              "Df Model:                          16                                         \n",
              "Covariance Type:            nonrobust                                         \n",
              "=====================================================================================\n",
              "                        coef    std err          t      P>|t|      [0.025      0.975]\n",
              "-------------------------------------------------------------------------------------\n",
              "const                 5.5700      0.020    277.876      0.000       5.531       5.609\n",
              "층                     0.3517      0.007     49.813      0.000       0.338       0.366\n",
              "KOSPI종가              -0.0806      0.018     -4.605      0.000      -0.115      -0.046\n",
              "Fed기준금리              -0.2256      0.009    -24.011      0.000      -0.244      -0.207\n",
              "국제유가(Dubai)($/배럴)     0.1517      0.010     15.663      0.000       0.133       0.171\n",
              "부동산거래량               -0.0210      0.005     -4.102      0.000      -0.031      -0.011\n",
              "국고채10년(평균)            0.1689      0.023      7.386      0.000       0.124       0.214\n",
              "회사채3년(평균)             0.1182      0.014      8.224      0.000       0.090       0.146\n",
              "CD91물(평균)            -0.2399      0.021    -11.350      0.000      -0.281      -0.198\n",
              "BOK기준금리              -0.1601      0.017     -9.460      0.000      -0.193      -0.127\n",
              "건물연식                  0.1270      0.004     33.172      0.000       0.120       0.135\n",
              "GDP대비가계부채비율          -0.1440      0.016     -8.967      0.000      -0.175      -0.113\n",
              "환율종가                 -0.0205      0.008     -2.638      0.008      -0.036      -0.005\n",
              "선행지수순환변동치             0.1968      0.012     15.898      0.000       0.173       0.221\n",
              "장단기금리spread          -0.4638      0.018    -26.468      0.000      -0.498      -0.429\n",
              "금값종가                 -0.2091      0.015    -13.602      0.000      -0.239      -0.179\n",
              "LTV                  -0.4403      0.006    -79.484      0.000      -0.451      -0.429\n",
              "==============================================================================\n",
              "Omnibus:                     3446.595   Durbin-Watson:                   1.864\n",
              "Prob(Omnibus):                  0.000   Jarque-Bera (JB):             3979.170\n",
              "Skew:                           0.475   Prob(JB):                         0.00\n",
              "Kurtosis:                       3.434   Cond. No.                         103.\n",
              "==============================================================================\n",
              "\n",
              "Notes:\n",
              "[1] Standard Errors assume that the covariance matrix of the errors is correctly specified.\n",
              "\"\"\""
            ],
            "text/html": [
              "<table class=\"simpletable\">\n",
              "<caption>OLS Regression Results</caption>\n",
              "<tr>\n",
              "  <th>Dep. Variable:</th>        <td>물건금액(만원)</td>     <th>  R-squared:         </th>  <td>   0.198</td> \n",
              "</tr>\n",
              "<tr>\n",
              "  <th>Model:</th>                   <td>OLS</td>       <th>  Adj. R-squared:    </th>  <td>   0.197</td> \n",
              "</tr>\n",
              "<tr>\n",
              "  <th>Method:</th>             <td>Least Squares</td>  <th>  F-statistic:       </th>  <td>   1346.</td> \n",
              "</tr>\n",
              "<tr>\n",
              "  <th>Date:</th>             <td>Sat, 01 Jul 2023</td> <th>  Prob (F-statistic):</th>   <td>  0.00</td>  \n",
              "</tr>\n",
              "<tr>\n",
              "  <th>Time:</th>                 <td>10:08:57</td>     <th>  Log-Likelihood:    </th>  <td>  12087.</td> \n",
              "</tr>\n",
              "<tr>\n",
              "  <th>No. Observations:</th>      <td> 87518</td>      <th>  AIC:               </th> <td>-2.414e+04</td>\n",
              "</tr>\n",
              "<tr>\n",
              "  <th>Df Residuals:</th>          <td> 87501</td>      <th>  BIC:               </th> <td>-2.398e+04</td>\n",
              "</tr>\n",
              "<tr>\n",
              "  <th>Df Model:</th>              <td>    16</td>      <th>                     </th>      <td> </td>    \n",
              "</tr>\n",
              "<tr>\n",
              "  <th>Covariance Type:</th>      <td>nonrobust</td>    <th>                     </th>      <td> </td>    \n",
              "</tr>\n",
              "</table>\n",
              "<table class=\"simpletable\">\n",
              "<tr>\n",
              "          <td></td>             <th>coef</th>     <th>std err</th>      <th>t</th>      <th>P>|t|</th>  <th>[0.025</th>    <th>0.975]</th>  \n",
              "</tr>\n",
              "<tr>\n",
              "  <th>const</th>             <td>    5.5700</td> <td>    0.020</td> <td>  277.876</td> <td> 0.000</td> <td>    5.531</td> <td>    5.609</td>\n",
              "</tr>\n",
              "<tr>\n",
              "  <th>층</th>                 <td>    0.3517</td> <td>    0.007</td> <td>   49.813</td> <td> 0.000</td> <td>    0.338</td> <td>    0.366</td>\n",
              "</tr>\n",
              "<tr>\n",
              "  <th>KOSPI종가</th>           <td>   -0.0806</td> <td>    0.018</td> <td>   -4.605</td> <td> 0.000</td> <td>   -0.115</td> <td>   -0.046</td>\n",
              "</tr>\n",
              "<tr>\n",
              "  <th>Fed기준금리</th>           <td>   -0.2256</td> <td>    0.009</td> <td>  -24.011</td> <td> 0.000</td> <td>   -0.244</td> <td>   -0.207</td>\n",
              "</tr>\n",
              "<tr>\n",
              "  <th>국제유가(Dubai)($/배럴)</th> <td>    0.1517</td> <td>    0.010</td> <td>   15.663</td> <td> 0.000</td> <td>    0.133</td> <td>    0.171</td>\n",
              "</tr>\n",
              "<tr>\n",
              "  <th>부동산거래량</th>            <td>   -0.0210</td> <td>    0.005</td> <td>   -4.102</td> <td> 0.000</td> <td>   -0.031</td> <td>   -0.011</td>\n",
              "</tr>\n",
              "<tr>\n",
              "  <th>국고채10년(평균)</th>        <td>    0.1689</td> <td>    0.023</td> <td>    7.386</td> <td> 0.000</td> <td>    0.124</td> <td>    0.214</td>\n",
              "</tr>\n",
              "<tr>\n",
              "  <th>회사채3년(평균)</th>         <td>    0.1182</td> <td>    0.014</td> <td>    8.224</td> <td> 0.000</td> <td>    0.090</td> <td>    0.146</td>\n",
              "</tr>\n",
              "<tr>\n",
              "  <th>CD91물(평균)</th>         <td>   -0.2399</td> <td>    0.021</td> <td>  -11.350</td> <td> 0.000</td> <td>   -0.281</td> <td>   -0.198</td>\n",
              "</tr>\n",
              "<tr>\n",
              "  <th>BOK기준금리</th>           <td>   -0.1601</td> <td>    0.017</td> <td>   -9.460</td> <td> 0.000</td> <td>   -0.193</td> <td>   -0.127</td>\n",
              "</tr>\n",
              "<tr>\n",
              "  <th>건물연식</th>              <td>    0.1270</td> <td>    0.004</td> <td>   33.172</td> <td> 0.000</td> <td>    0.120</td> <td>    0.135</td>\n",
              "</tr>\n",
              "<tr>\n",
              "  <th>GDP대비가계부채비율</th>       <td>   -0.1440</td> <td>    0.016</td> <td>   -8.967</td> <td> 0.000</td> <td>   -0.175</td> <td>   -0.113</td>\n",
              "</tr>\n",
              "<tr>\n",
              "  <th>환율종가</th>              <td>   -0.0205</td> <td>    0.008</td> <td>   -2.638</td> <td> 0.008</td> <td>   -0.036</td> <td>   -0.005</td>\n",
              "</tr>\n",
              "<tr>\n",
              "  <th>선행지수순환변동치</th>         <td>    0.1968</td> <td>    0.012</td> <td>   15.898</td> <td> 0.000</td> <td>    0.173</td> <td>    0.221</td>\n",
              "</tr>\n",
              "<tr>\n",
              "  <th>장단기금리spread</th>       <td>   -0.4638</td> <td>    0.018</td> <td>  -26.468</td> <td> 0.000</td> <td>   -0.498</td> <td>   -0.429</td>\n",
              "</tr>\n",
              "<tr>\n",
              "  <th>금값종가</th>              <td>   -0.2091</td> <td>    0.015</td> <td>  -13.602</td> <td> 0.000</td> <td>   -0.239</td> <td>   -0.179</td>\n",
              "</tr>\n",
              "<tr>\n",
              "  <th>LTV</th>               <td>   -0.4403</td> <td>    0.006</td> <td>  -79.484</td> <td> 0.000</td> <td>   -0.451</td> <td>   -0.429</td>\n",
              "</tr>\n",
              "</table>\n",
              "<table class=\"simpletable\">\n",
              "<tr>\n",
              "  <th>Omnibus:</th>       <td>3446.595</td> <th>  Durbin-Watson:     </th> <td>   1.864</td>\n",
              "</tr>\n",
              "<tr>\n",
              "  <th>Prob(Omnibus):</th>  <td> 0.000</td>  <th>  Jarque-Bera (JB):  </th> <td>3979.170</td>\n",
              "</tr>\n",
              "<tr>\n",
              "  <th>Skew:</th>           <td> 0.475</td>  <th>  Prob(JB):          </th> <td>    0.00</td>\n",
              "</tr>\n",
              "<tr>\n",
              "  <th>Kurtosis:</th>       <td> 3.434</td>  <th>  Cond. No.          </th> <td>    103.</td>\n",
              "</tr>\n",
              "</table><br/><br/>Notes:<br/>[1] Standard Errors assume that the covariance matrix of the errors is correctly specified."
            ]
          },
          "metadata": {},
          "execution_count": 29
        }
      ],
      "source": [
        "# OLS_1\n",
        "# 스케일링 후 predict\n",
        "import statsmodels.api as sm\n",
        "\n",
        "feature_add = sm.add_constant(X_scaled, has_constant='add')\n",
        "\n",
        "# sm OLS 적합\n",
        "model = sm.OLS(y_scaled , feature_add)\n",
        "fitted_model = model.fit()\n",
        "\n",
        "# summary 함수통해 결과출력\n",
        "fitted_model.summary()"
      ]
    },
    {
      "cell_type": "markdown",
      "source": [
        "### EPU 컬럼 삭제"
      ],
      "metadata": {
        "id": "J02Uaomc67Sn"
      },
      "id": "J02Uaomc67Sn"
    },
    {
      "cell_type": "code",
      "execution_count": null,
      "id": "2428c469",
      "metadata": {
        "id": "2428c469"
      },
      "outputs": [],
      "source": [
        "X_scaled.drop('EPU', axis=1, inplace=True)"
      ]
    },
    {
      "cell_type": "markdown",
      "source": [
        "## OLS_2"
      ],
      "metadata": {
        "id": "OU5h7Df66_HF"
      },
      "id": "OU5h7Df66_HF"
    },
    {
      "cell_type": "code",
      "execution_count": null,
      "id": "df219e3c",
      "metadata": {
        "id": "df219e3c",
        "outputId": "b1573dec-a6c1-4ecd-d532-9036887a80e9",
        "colab": {
          "base_uri": "https://localhost:8080/",
          "height": 793
        }
      },
      "outputs": [
        {
          "output_type": "execute_result",
          "data": {
            "text/plain": [
              "<class 'statsmodels.iolib.summary.Summary'>\n",
              "\"\"\"\n",
              "                            OLS Regression Results                            \n",
              "==============================================================================\n",
              "Dep. Variable:               물건금액(만원)   R-squared:                       0.199\n",
              "Model:                            OLS   Adj. R-squared:                  0.199\n",
              "Method:                 Least Squares   F-statistic:                     1276.\n",
              "Date:                Sat, 01 Jul 2023   Prob (F-statistic):               0.00\n",
              "Time:                        10:08:08   Log-Likelihood:                 12152.\n",
              "No. Observations:               87518   AIC:                        -2.427e+04\n",
              "Df Residuals:                   87500   BIC:                        -2.410e+04\n",
              "Df Model:                          17                                         \n",
              "Covariance Type:            nonrobust                                         \n",
              "=====================================================================================\n",
              "                        coef    std err          t      P>|t|      [0.025      0.975]\n",
              "-------------------------------------------------------------------------------------\n",
              "const                 5.4534      0.022    242.525      0.000       5.409       5.497\n",
              "층                     0.3517      0.007     49.847      0.000       0.338       0.366\n",
              "KOSPI종가              -0.0721      0.018     -4.118      0.000      -0.106      -0.038\n",
              "Fed기준금리              -0.1973      0.010    -20.321      0.000      -0.216      -0.178\n",
              "국제유가(Dubai)($/배럴)     0.1637      0.010     16.812      0.000       0.145       0.183\n",
              "부동산거래량               -0.0285      0.005     -5.532      0.000      -0.039      -0.018\n",
              "국고채5년(평균)            -0.5940      0.052    -11.415      0.000      -0.696      -0.492\n",
              "국고채10년(평균)            0.5136      0.038     13.563      0.000       0.439       0.588\n",
              "회사채3년(평균)             0.1637      0.015     10.981      0.000       0.134       0.193\n",
              "CD91물(평균)            -0.1363      0.023     -5.933      0.000      -0.181      -0.091\n",
              "BOK기준금리              -0.0711      0.019     -3.820      0.000      -0.108      -0.035\n",
              "건물연식                  0.1256      0.004     32.812      0.000       0.118       0.133\n",
              "GDP대비가계부채비율          -0.1952      0.017    -11.716      0.000      -0.228      -0.163\n",
              "환율종가                 -0.0489      0.008     -6.009      0.000      -0.065      -0.033\n",
              "선행지수순환변동치             0.1774      0.012     14.203      0.000       0.153       0.202\n",
              "장단기금리spread          -0.2823      0.024    -11.935      0.000      -0.329      -0.236\n",
              "금값종가                 -0.1672      0.016    -10.588      0.000      -0.198      -0.136\n",
              "LTV                  -0.4502      0.006    -80.351      0.000      -0.461      -0.439\n",
              "==============================================================================\n",
              "Omnibus:                     3443.000   Durbin-Watson:                   1.864\n",
              "Prob(Omnibus):                  0.000   Jarque-Bera (JB):             3981.719\n",
              "Skew:                           0.474   Prob(JB):                         0.00\n",
              "Kurtosis:                       3.441   Cond. No.                         205.\n",
              "==============================================================================\n",
              "\n",
              "Notes:\n",
              "[1] Standard Errors assume that the covariance matrix of the errors is correctly specified.\n",
              "\"\"\""
            ],
            "text/html": [
              "<table class=\"simpletable\">\n",
              "<caption>OLS Regression Results</caption>\n",
              "<tr>\n",
              "  <th>Dep. Variable:</th>        <td>물건금액(만원)</td>     <th>  R-squared:         </th>  <td>   0.199</td> \n",
              "</tr>\n",
              "<tr>\n",
              "  <th>Model:</th>                   <td>OLS</td>       <th>  Adj. R-squared:    </th>  <td>   0.199</td> \n",
              "</tr>\n",
              "<tr>\n",
              "  <th>Method:</th>             <td>Least Squares</td>  <th>  F-statistic:       </th>  <td>   1276.</td> \n",
              "</tr>\n",
              "<tr>\n",
              "  <th>Date:</th>             <td>Sat, 01 Jul 2023</td> <th>  Prob (F-statistic):</th>   <td>  0.00</td>  \n",
              "</tr>\n",
              "<tr>\n",
              "  <th>Time:</th>                 <td>10:08:08</td>     <th>  Log-Likelihood:    </th>  <td>  12152.</td> \n",
              "</tr>\n",
              "<tr>\n",
              "  <th>No. Observations:</th>      <td> 87518</td>      <th>  AIC:               </th> <td>-2.427e+04</td>\n",
              "</tr>\n",
              "<tr>\n",
              "  <th>Df Residuals:</th>          <td> 87500</td>      <th>  BIC:               </th> <td>-2.410e+04</td>\n",
              "</tr>\n",
              "<tr>\n",
              "  <th>Df Model:</th>              <td>    17</td>      <th>                     </th>      <td> </td>    \n",
              "</tr>\n",
              "<tr>\n",
              "  <th>Covariance Type:</th>      <td>nonrobust</td>    <th>                     </th>      <td> </td>    \n",
              "</tr>\n",
              "</table>\n",
              "<table class=\"simpletable\">\n",
              "<tr>\n",
              "          <td></td>             <th>coef</th>     <th>std err</th>      <th>t</th>      <th>P>|t|</th>  <th>[0.025</th>    <th>0.975]</th>  \n",
              "</tr>\n",
              "<tr>\n",
              "  <th>const</th>             <td>    5.4534</td> <td>    0.022</td> <td>  242.525</td> <td> 0.000</td> <td>    5.409</td> <td>    5.497</td>\n",
              "</tr>\n",
              "<tr>\n",
              "  <th>층</th>                 <td>    0.3517</td> <td>    0.007</td> <td>   49.847</td> <td> 0.000</td> <td>    0.338</td> <td>    0.366</td>\n",
              "</tr>\n",
              "<tr>\n",
              "  <th>KOSPI종가</th>           <td>   -0.0721</td> <td>    0.018</td> <td>   -4.118</td> <td> 0.000</td> <td>   -0.106</td> <td>   -0.038</td>\n",
              "</tr>\n",
              "<tr>\n",
              "  <th>Fed기준금리</th>           <td>   -0.1973</td> <td>    0.010</td> <td>  -20.321</td> <td> 0.000</td> <td>   -0.216</td> <td>   -0.178</td>\n",
              "</tr>\n",
              "<tr>\n",
              "  <th>국제유가(Dubai)($/배럴)</th> <td>    0.1637</td> <td>    0.010</td> <td>   16.812</td> <td> 0.000</td> <td>    0.145</td> <td>    0.183</td>\n",
              "</tr>\n",
              "<tr>\n",
              "  <th>부동산거래량</th>            <td>   -0.0285</td> <td>    0.005</td> <td>   -5.532</td> <td> 0.000</td> <td>   -0.039</td> <td>   -0.018</td>\n",
              "</tr>\n",
              "<tr>\n",
              "  <th>국고채5년(평균)</th>         <td>   -0.5940</td> <td>    0.052</td> <td>  -11.415</td> <td> 0.000</td> <td>   -0.696</td> <td>   -0.492</td>\n",
              "</tr>\n",
              "<tr>\n",
              "  <th>국고채10년(평균)</th>        <td>    0.5136</td> <td>    0.038</td> <td>   13.563</td> <td> 0.000</td> <td>    0.439</td> <td>    0.588</td>\n",
              "</tr>\n",
              "<tr>\n",
              "  <th>회사채3년(평균)</th>         <td>    0.1637</td> <td>    0.015</td> <td>   10.981</td> <td> 0.000</td> <td>    0.134</td> <td>    0.193</td>\n",
              "</tr>\n",
              "<tr>\n",
              "  <th>CD91물(평균)</th>         <td>   -0.1363</td> <td>    0.023</td> <td>   -5.933</td> <td> 0.000</td> <td>   -0.181</td> <td>   -0.091</td>\n",
              "</tr>\n",
              "<tr>\n",
              "  <th>BOK기준금리</th>           <td>   -0.0711</td> <td>    0.019</td> <td>   -3.820</td> <td> 0.000</td> <td>   -0.108</td> <td>   -0.035</td>\n",
              "</tr>\n",
              "<tr>\n",
              "  <th>건물연식</th>              <td>    0.1256</td> <td>    0.004</td> <td>   32.812</td> <td> 0.000</td> <td>    0.118</td> <td>    0.133</td>\n",
              "</tr>\n",
              "<tr>\n",
              "  <th>GDP대비가계부채비율</th>       <td>   -0.1952</td> <td>    0.017</td> <td>  -11.716</td> <td> 0.000</td> <td>   -0.228</td> <td>   -0.163</td>\n",
              "</tr>\n",
              "<tr>\n",
              "  <th>환율종가</th>              <td>   -0.0489</td> <td>    0.008</td> <td>   -6.009</td> <td> 0.000</td> <td>   -0.065</td> <td>   -0.033</td>\n",
              "</tr>\n",
              "<tr>\n",
              "  <th>선행지수순환변동치</th>         <td>    0.1774</td> <td>    0.012</td> <td>   14.203</td> <td> 0.000</td> <td>    0.153</td> <td>    0.202</td>\n",
              "</tr>\n",
              "<tr>\n",
              "  <th>장단기금리spread</th>       <td>   -0.2823</td> <td>    0.024</td> <td>  -11.935</td> <td> 0.000</td> <td>   -0.329</td> <td>   -0.236</td>\n",
              "</tr>\n",
              "<tr>\n",
              "  <th>금값종가</th>              <td>   -0.1672</td> <td>    0.016</td> <td>  -10.588</td> <td> 0.000</td> <td>   -0.198</td> <td>   -0.136</td>\n",
              "</tr>\n",
              "<tr>\n",
              "  <th>LTV</th>               <td>   -0.4502</td> <td>    0.006</td> <td>  -80.351</td> <td> 0.000</td> <td>   -0.461</td> <td>   -0.439</td>\n",
              "</tr>\n",
              "</table>\n",
              "<table class=\"simpletable\">\n",
              "<tr>\n",
              "  <th>Omnibus:</th>       <td>3443.000</td> <th>  Durbin-Watson:     </th> <td>   1.864</td>\n",
              "</tr>\n",
              "<tr>\n",
              "  <th>Prob(Omnibus):</th>  <td> 0.000</td>  <th>  Jarque-Bera (JB):  </th> <td>3981.719</td>\n",
              "</tr>\n",
              "<tr>\n",
              "  <th>Skew:</th>           <td> 0.474</td>  <th>  Prob(JB):          </th> <td>    0.00</td>\n",
              "</tr>\n",
              "<tr>\n",
              "  <th>Kurtosis:</th>       <td> 3.441</td>  <th>  Cond. No.          </th> <td>    205.</td>\n",
              "</tr>\n",
              "</table><br/><br/>Notes:<br/>[1] Standard Errors assume that the covariance matrix of the errors is correctly specified."
            ]
          },
          "metadata": {},
          "execution_count": 24
        }
      ],
      "source": [
        "# OLS_2\n",
        "# 스케일링 후 predict\n",
        "import statsmodels.api as sm\n",
        "\n",
        "feature_add = sm.add_constant(X_scaled, has_constant='add')\n",
        "\n",
        "# sm OLS 적합\n",
        "model = sm.OLS(y_scaled , feature_add)\n",
        "fitted_model = model.fit()\n",
        "\n",
        "# summary 함수통해 결과출력\n",
        "fitted_model.summary()"
      ]
    },
    {
      "cell_type": "markdown",
      "source": [
        "## VIF_2"
      ],
      "metadata": {
        "id": "Wp1mKYiK7DSu"
      },
      "id": "Wp1mKYiK7DSu"
    },
    {
      "cell_type": "code",
      "execution_count": null,
      "id": "8c5de1b3",
      "metadata": {
        "id": "8c5de1b3"
      },
      "outputs": [],
      "source": [
        "from statsmodels.stats.outliers_influence import variance_inflation_factor\n",
        "\n",
        "def feature_engineering_XbyVIF(X_scaled):\n",
        "    vif = pd.DataFrame()\n",
        "    vif[\"VIF_Factor\"] = [variance_inflation_factor(X_scaled.values,i)\n",
        "                         for i in range(X_scaled.shape[1])]\n",
        "    vif[\"Feature\"] = X_scaled.columns\n",
        "    return vif"
      ]
    },
    {
      "cell_type": "code",
      "execution_count": null,
      "id": "dc00f551",
      "metadata": {
        "id": "dc00f551",
        "outputId": "6a922cad-2d94-491f-c83d-c35443af7c45",
        "colab": {
          "base_uri": "https://localhost:8080/"
        }
      },
      "outputs": [
        {
          "output_type": "stream",
          "name": "stdout",
          "text": [
            "     VIF_Factor            Feature\n",
            "0      4.291249                  층\n",
            "1    164.466042            KOSPI종가\n",
            "2     49.758997            Fed기준금리\n",
            "3     65.861449  국제유가(Dubai)($/배럴)\n",
            "4      9.679435             부동산거래량\n",
            "5   1235.392870          국고채5년(평균)\n",
            "6    850.618945         국고채10년(평균)\n",
            "7    123.710894          회사채3년(평균)\n",
            "8    280.216497          CD91물(평균)\n",
            "9    258.715842            BOK기준금리\n",
            "10     5.282136               건물연식\n",
            "11   105.939397        GDP대비가계부채비율\n",
            "12    22.812740               환율종가\n",
            "13   126.051974          선행지수순환변동치\n",
            "14   220.305796        장단기금리spread\n",
            "15    60.458377               금값종가\n",
            "16    26.446927                LTV\n"
          ]
        }
      ],
      "source": [
        "# VIF_2\n",
        "vif = feature_engineering_XbyVIF(X_scaled)\n",
        "print(vif)"
      ]
    },
    {
      "cell_type": "markdown",
      "source": [
        "### 국고채5년(평균) 컬럼삭제"
      ],
      "metadata": {
        "id": "Ki3zWNHQ7KuB"
      },
      "id": "Ki3zWNHQ7KuB"
    },
    {
      "cell_type": "code",
      "execution_count": null,
      "id": "94e8f7f9",
      "metadata": {
        "id": "94e8f7f9"
      },
      "outputs": [],
      "source": [
        "X_scaled.drop('국고채5년(평균)', axis=1, inplace=True)"
      ]
    },
    {
      "cell_type": "markdown",
      "source": [
        "## OLS_3"
      ],
      "metadata": {
        "id": "mJdx4cg57Od9"
      },
      "id": "mJdx4cg57Od9"
    },
    {
      "cell_type": "code",
      "execution_count": null,
      "id": "2280b7ad",
      "metadata": {
        "id": "2280b7ad",
        "outputId": "878cc34b-f6cb-4d78-bce1-733f6988b080",
        "colab": {
          "base_uri": "https://localhost:8080/",
          "height": 772
        }
      },
      "outputs": [
        {
          "output_type": "execute_result",
          "data": {
            "text/plain": [
              "<class 'statsmodels.iolib.summary.Summary'>\n",
              "\"\"\"\n",
              "                            OLS Regression Results                            \n",
              "==============================================================================\n",
              "Dep. Variable:               물건금액(만원)   R-squared:                       0.198\n",
              "Model:                            OLS   Adj. R-squared:                  0.197\n",
              "Method:                 Least Squares   F-statistic:                     1346.\n",
              "Date:                Sat, 01 Jul 2023   Prob (F-statistic):               0.00\n",
              "Time:                        10:08:41   Log-Likelihood:                 12087.\n",
              "No. Observations:               87518   AIC:                        -2.414e+04\n",
              "Df Residuals:                   87501   BIC:                        -2.398e+04\n",
              "Df Model:                          16                                         \n",
              "Covariance Type:            nonrobust                                         \n",
              "=====================================================================================\n",
              "                        coef    std err          t      P>|t|      [0.025      0.975]\n",
              "-------------------------------------------------------------------------------------\n",
              "const                 5.5700      0.020    277.876      0.000       5.531       5.609\n",
              "층                     0.3517      0.007     49.813      0.000       0.338       0.366\n",
              "KOSPI종가              -0.0806      0.018     -4.605      0.000      -0.115      -0.046\n",
              "Fed기준금리              -0.2256      0.009    -24.011      0.000      -0.244      -0.207\n",
              "국제유가(Dubai)($/배럴)     0.1517      0.010     15.663      0.000       0.133       0.171\n",
              "부동산거래량               -0.0210      0.005     -4.102      0.000      -0.031      -0.011\n",
              "국고채10년(평균)            0.1689      0.023      7.386      0.000       0.124       0.214\n",
              "회사채3년(평균)             0.1182      0.014      8.224      0.000       0.090       0.146\n",
              "CD91물(평균)            -0.2399      0.021    -11.350      0.000      -0.281      -0.198\n",
              "BOK기준금리              -0.1601      0.017     -9.460      0.000      -0.193      -0.127\n",
              "건물연식                  0.1270      0.004     33.172      0.000       0.120       0.135\n",
              "GDP대비가계부채비율          -0.1440      0.016     -8.967      0.000      -0.175      -0.113\n",
              "환율종가                 -0.0205      0.008     -2.638      0.008      -0.036      -0.005\n",
              "선행지수순환변동치             0.1968      0.012     15.898      0.000       0.173       0.221\n",
              "장단기금리spread          -0.4638      0.018    -26.468      0.000      -0.498      -0.429\n",
              "금값종가                 -0.2091      0.015    -13.602      0.000      -0.239      -0.179\n",
              "LTV                  -0.4403      0.006    -79.484      0.000      -0.451      -0.429\n",
              "==============================================================================\n",
              "Omnibus:                     3446.595   Durbin-Watson:                   1.864\n",
              "Prob(Omnibus):                  0.000   Jarque-Bera (JB):             3979.170\n",
              "Skew:                           0.475   Prob(JB):                         0.00\n",
              "Kurtosis:                       3.434   Cond. No.                         103.\n",
              "==============================================================================\n",
              "\n",
              "Notes:\n",
              "[1] Standard Errors assume that the covariance matrix of the errors is correctly specified.\n",
              "\"\"\""
            ],
            "text/html": [
              "<table class=\"simpletable\">\n",
              "<caption>OLS Regression Results</caption>\n",
              "<tr>\n",
              "  <th>Dep. Variable:</th>        <td>물건금액(만원)</td>     <th>  R-squared:         </th>  <td>   0.198</td> \n",
              "</tr>\n",
              "<tr>\n",
              "  <th>Model:</th>                   <td>OLS</td>       <th>  Adj. R-squared:    </th>  <td>   0.197</td> \n",
              "</tr>\n",
              "<tr>\n",
              "  <th>Method:</th>             <td>Least Squares</td>  <th>  F-statistic:       </th>  <td>   1346.</td> \n",
              "</tr>\n",
              "<tr>\n",
              "  <th>Date:</th>             <td>Sat, 01 Jul 2023</td> <th>  Prob (F-statistic):</th>   <td>  0.00</td>  \n",
              "</tr>\n",
              "<tr>\n",
              "  <th>Time:</th>                 <td>10:08:41</td>     <th>  Log-Likelihood:    </th>  <td>  12087.</td> \n",
              "</tr>\n",
              "<tr>\n",
              "  <th>No. Observations:</th>      <td> 87518</td>      <th>  AIC:               </th> <td>-2.414e+04</td>\n",
              "</tr>\n",
              "<tr>\n",
              "  <th>Df Residuals:</th>          <td> 87501</td>      <th>  BIC:               </th> <td>-2.398e+04</td>\n",
              "</tr>\n",
              "<tr>\n",
              "  <th>Df Model:</th>              <td>    16</td>      <th>                     </th>      <td> </td>    \n",
              "</tr>\n",
              "<tr>\n",
              "  <th>Covariance Type:</th>      <td>nonrobust</td>    <th>                     </th>      <td> </td>    \n",
              "</tr>\n",
              "</table>\n",
              "<table class=\"simpletable\">\n",
              "<tr>\n",
              "          <td></td>             <th>coef</th>     <th>std err</th>      <th>t</th>      <th>P>|t|</th>  <th>[0.025</th>    <th>0.975]</th>  \n",
              "</tr>\n",
              "<tr>\n",
              "  <th>const</th>             <td>    5.5700</td> <td>    0.020</td> <td>  277.876</td> <td> 0.000</td> <td>    5.531</td> <td>    5.609</td>\n",
              "</tr>\n",
              "<tr>\n",
              "  <th>층</th>                 <td>    0.3517</td> <td>    0.007</td> <td>   49.813</td> <td> 0.000</td> <td>    0.338</td> <td>    0.366</td>\n",
              "</tr>\n",
              "<tr>\n",
              "  <th>KOSPI종가</th>           <td>   -0.0806</td> <td>    0.018</td> <td>   -4.605</td> <td> 0.000</td> <td>   -0.115</td> <td>   -0.046</td>\n",
              "</tr>\n",
              "<tr>\n",
              "  <th>Fed기준금리</th>           <td>   -0.2256</td> <td>    0.009</td> <td>  -24.011</td> <td> 0.000</td> <td>   -0.244</td> <td>   -0.207</td>\n",
              "</tr>\n",
              "<tr>\n",
              "  <th>국제유가(Dubai)($/배럴)</th> <td>    0.1517</td> <td>    0.010</td> <td>   15.663</td> <td> 0.000</td> <td>    0.133</td> <td>    0.171</td>\n",
              "</tr>\n",
              "<tr>\n",
              "  <th>부동산거래량</th>            <td>   -0.0210</td> <td>    0.005</td> <td>   -4.102</td> <td> 0.000</td> <td>   -0.031</td> <td>   -0.011</td>\n",
              "</tr>\n",
              "<tr>\n",
              "  <th>국고채10년(평균)</th>        <td>    0.1689</td> <td>    0.023</td> <td>    7.386</td> <td> 0.000</td> <td>    0.124</td> <td>    0.214</td>\n",
              "</tr>\n",
              "<tr>\n",
              "  <th>회사채3년(평균)</th>         <td>    0.1182</td> <td>    0.014</td> <td>    8.224</td> <td> 0.000</td> <td>    0.090</td> <td>    0.146</td>\n",
              "</tr>\n",
              "<tr>\n",
              "  <th>CD91물(평균)</th>         <td>   -0.2399</td> <td>    0.021</td> <td>  -11.350</td> <td> 0.000</td> <td>   -0.281</td> <td>   -0.198</td>\n",
              "</tr>\n",
              "<tr>\n",
              "  <th>BOK기준금리</th>           <td>   -0.1601</td> <td>    0.017</td> <td>   -9.460</td> <td> 0.000</td> <td>   -0.193</td> <td>   -0.127</td>\n",
              "</tr>\n",
              "<tr>\n",
              "  <th>건물연식</th>              <td>    0.1270</td> <td>    0.004</td> <td>   33.172</td> <td> 0.000</td> <td>    0.120</td> <td>    0.135</td>\n",
              "</tr>\n",
              "<tr>\n",
              "  <th>GDP대비가계부채비율</th>       <td>   -0.1440</td> <td>    0.016</td> <td>   -8.967</td> <td> 0.000</td> <td>   -0.175</td> <td>   -0.113</td>\n",
              "</tr>\n",
              "<tr>\n",
              "  <th>환율종가</th>              <td>   -0.0205</td> <td>    0.008</td> <td>   -2.638</td> <td> 0.008</td> <td>   -0.036</td> <td>   -0.005</td>\n",
              "</tr>\n",
              "<tr>\n",
              "  <th>선행지수순환변동치</th>         <td>    0.1968</td> <td>    0.012</td> <td>   15.898</td> <td> 0.000</td> <td>    0.173</td> <td>    0.221</td>\n",
              "</tr>\n",
              "<tr>\n",
              "  <th>장단기금리spread</th>       <td>   -0.4638</td> <td>    0.018</td> <td>  -26.468</td> <td> 0.000</td> <td>   -0.498</td> <td>   -0.429</td>\n",
              "</tr>\n",
              "<tr>\n",
              "  <th>금값종가</th>              <td>   -0.2091</td> <td>    0.015</td> <td>  -13.602</td> <td> 0.000</td> <td>   -0.239</td> <td>   -0.179</td>\n",
              "</tr>\n",
              "<tr>\n",
              "  <th>LTV</th>               <td>   -0.4403</td> <td>    0.006</td> <td>  -79.484</td> <td> 0.000</td> <td>   -0.451</td> <td>   -0.429</td>\n",
              "</tr>\n",
              "</table>\n",
              "<table class=\"simpletable\">\n",
              "<tr>\n",
              "  <th>Omnibus:</th>       <td>3446.595</td> <th>  Durbin-Watson:     </th> <td>   1.864</td>\n",
              "</tr>\n",
              "<tr>\n",
              "  <th>Prob(Omnibus):</th>  <td> 0.000</td>  <th>  Jarque-Bera (JB):  </th> <td>3979.170</td>\n",
              "</tr>\n",
              "<tr>\n",
              "  <th>Skew:</th>           <td> 0.475</td>  <th>  Prob(JB):          </th> <td>    0.00</td>\n",
              "</tr>\n",
              "<tr>\n",
              "  <th>Kurtosis:</th>       <td> 3.434</td>  <th>  Cond. No.          </th> <td>    103.</td>\n",
              "</tr>\n",
              "</table><br/><br/>Notes:<br/>[1] Standard Errors assume that the covariance matrix of the errors is correctly specified."
            ]
          },
          "metadata": {},
          "execution_count": 28
        }
      ],
      "source": [
        "# OLS_3\n",
        "# 스케일링 후 predict\n",
        "import statsmodels.api as sm\n",
        "\n",
        "feature_add = sm.add_constant(X_scaled, has_constant='add')\n",
        "\n",
        "# sm OLS 적합\n",
        "model = sm.OLS(y_scaled , feature_add)\n",
        "fitted_model = model.fit()\n",
        "\n",
        "# summary 함수통해 결과출력\n",
        "fitted_model.summary()"
      ]
    },
    {
      "cell_type": "markdown",
      "source": [
        "## VIF_3"
      ],
      "metadata": {
        "id": "I_53b1Q37jWH"
      },
      "id": "I_53b1Q37jWH"
    },
    {
      "cell_type": "code",
      "execution_count": null,
      "id": "6f65fc0a",
      "metadata": {
        "id": "6f65fc0a",
        "outputId": "b7235973-0c3f-4e6b-8830-8d6b36073475",
        "colab": {
          "base_uri": "https://localhost:8080/"
        }
      },
      "outputs": [
        {
          "output_type": "stream",
          "name": "stdout",
          "text": [
            "    VIF_Factor            Feature\n",
            "0     4.279694                  층\n",
            "1   162.188446            KOSPI종가\n",
            "2    43.932312            Fed기준금리\n",
            "3    65.568724  국제유가(Dubai)($/배럴)\n",
            "4     9.569580             부동산거래량\n",
            "5   257.471611         국고채10년(평균)\n",
            "6   115.009191          회사채3년(평균)\n",
            "7   273.139286          CD91물(평균)\n",
            "8   236.483512            BOK기준금리\n",
            "9     5.250034               건물연식\n",
            "10   88.895529        GDP대비가계부채비율\n",
            "11   15.615828               환율종가\n",
            "12  121.773666          선행지수순환변동치\n",
            "13  151.977506        장단기금리spread\n",
            "14   59.659690               금값종가\n",
            "15   22.139374                LTV\n"
          ]
        }
      ],
      "source": [
        "# VIF_3\n",
        "vif = feature_engineering_XbyVIF(X_scaled)\n",
        "print(vif)"
      ]
    },
    {
      "cell_type": "markdown",
      "source": [
        "### CD91물(평균) 컬럼 삭제"
      ],
      "metadata": {
        "id": "D9VUCXkC7pu_"
      },
      "id": "D9VUCXkC7pu_"
    },
    {
      "cell_type": "code",
      "execution_count": null,
      "id": "57df6b24",
      "metadata": {
        "id": "57df6b24"
      },
      "outputs": [],
      "source": [
        "X_scaled.drop('CD91물(평균)', axis=1, inplace=True)"
      ]
    },
    {
      "cell_type": "markdown",
      "source": [
        "## OLS_4"
      ],
      "metadata": {
        "id": "V887AQxA7uOM"
      },
      "id": "V887AQxA7uOM"
    },
    {
      "cell_type": "code",
      "execution_count": null,
      "id": "9f0eed86",
      "metadata": {
        "id": "9f0eed86",
        "outputId": "c1e29ff8-8bda-4ba1-b0e1-3ce051c366c8",
        "colab": {
          "base_uri": "https://localhost:8080/",
          "height": 751
        }
      },
      "outputs": [
        {
          "output_type": "execute_result",
          "data": {
            "text/plain": [
              "<class 'statsmodels.iolib.summary.Summary'>\n",
              "\"\"\"\n",
              "                            OLS Regression Results                            \n",
              "==============================================================================\n",
              "Dep. Variable:               물건금액(만원)   R-squared:                       0.196\n",
              "Model:                            OLS   Adj. R-squared:                  0.196\n",
              "Method:                 Least Squares   F-statistic:                     1425.\n",
              "Date:                Sat, 01 Jul 2023   Prob (F-statistic):               0.00\n",
              "Time:                        10:10:47   Log-Likelihood:                 12022.\n",
              "No. Observations:               87518   AIC:                        -2.401e+04\n",
              "Df Residuals:                   87502   BIC:                        -2.386e+04\n",
              "Df Model:                          15                                         \n",
              "Covariance Type:            nonrobust                                         \n",
              "=====================================================================================\n",
              "                        coef    std err          t      P>|t|      [0.025      0.975]\n",
              "-------------------------------------------------------------------------------------\n",
              "const                 5.4460      0.017    323.751      0.000       5.413       5.479\n",
              "층                     0.3523      0.007     49.851      0.000       0.338       0.366\n",
              "KOSPI종가              -0.0291      0.017     -1.718      0.086      -0.062       0.004\n",
              "Fed기준금리              -0.2423      0.009    -26.088      0.000      -0.260      -0.224\n",
              "국제유가(Dubai)($/배럴)     0.1554      0.010     16.041      0.000       0.136       0.174\n",
              "부동산거래량               -0.0279      0.005     -5.484      0.000      -0.038      -0.018\n",
              "국고채10년(평균)            0.0124      0.018      0.678      0.498      -0.023       0.048\n",
              "회사채3년(평균)             0.1587      0.014     11.385      0.000       0.131       0.186\n",
              "BOK기준금리              -0.2639      0.014    -18.529      0.000      -0.292      -0.236\n",
              "건물연식                  0.1271      0.004     33.165      0.000       0.120       0.135\n",
              "GDP대비가계부채비율          -0.1332      0.016     -8.302      0.000      -0.165      -0.102\n",
              "환율종가                 -0.0043      0.008     -0.567      0.571      -0.019       0.011\n",
              "선행지수순환변동치             0.2452      0.012     21.081      0.000       0.222       0.268\n",
              "장단기금리spread          -0.4109      0.017    -24.308      0.000      -0.444      -0.378\n",
              "금값종가                 -0.1983      0.015    -12.910      0.000      -0.228      -0.168\n",
              "LTV                  -0.4338      0.006    -78.675      0.000      -0.445      -0.423\n",
              "==============================================================================\n",
              "Omnibus:                     3536.982   Durbin-Watson:                   1.863\n",
              "Prob(Omnibus):                  0.000   Jarque-Bera (JB):             4096.012\n",
              "Skew:                           0.482   Prob(JB):                         0.00\n",
              "Kurtosis:                       3.440   Cond. No.                         79.5\n",
              "==============================================================================\n",
              "\n",
              "Notes:\n",
              "[1] Standard Errors assume that the covariance matrix of the errors is correctly specified.\n",
              "\"\"\""
            ],
            "text/html": [
              "<table class=\"simpletable\">\n",
              "<caption>OLS Regression Results</caption>\n",
              "<tr>\n",
              "  <th>Dep. Variable:</th>        <td>물건금액(만원)</td>     <th>  R-squared:         </th>  <td>   0.196</td> \n",
              "</tr>\n",
              "<tr>\n",
              "  <th>Model:</th>                   <td>OLS</td>       <th>  Adj. R-squared:    </th>  <td>   0.196</td> \n",
              "</tr>\n",
              "<tr>\n",
              "  <th>Method:</th>             <td>Least Squares</td>  <th>  F-statistic:       </th>  <td>   1425.</td> \n",
              "</tr>\n",
              "<tr>\n",
              "  <th>Date:</th>             <td>Sat, 01 Jul 2023</td> <th>  Prob (F-statistic):</th>   <td>  0.00</td>  \n",
              "</tr>\n",
              "<tr>\n",
              "  <th>Time:</th>                 <td>10:10:47</td>     <th>  Log-Likelihood:    </th>  <td>  12022.</td> \n",
              "</tr>\n",
              "<tr>\n",
              "  <th>No. Observations:</th>      <td> 87518</td>      <th>  AIC:               </th> <td>-2.401e+04</td>\n",
              "</tr>\n",
              "<tr>\n",
              "  <th>Df Residuals:</th>          <td> 87502</td>      <th>  BIC:               </th> <td>-2.386e+04</td>\n",
              "</tr>\n",
              "<tr>\n",
              "  <th>Df Model:</th>              <td>    15</td>      <th>                     </th>      <td> </td>    \n",
              "</tr>\n",
              "<tr>\n",
              "  <th>Covariance Type:</th>      <td>nonrobust</td>    <th>                     </th>      <td> </td>    \n",
              "</tr>\n",
              "</table>\n",
              "<table class=\"simpletable\">\n",
              "<tr>\n",
              "          <td></td>             <th>coef</th>     <th>std err</th>      <th>t</th>      <th>P>|t|</th>  <th>[0.025</th>    <th>0.975]</th>  \n",
              "</tr>\n",
              "<tr>\n",
              "  <th>const</th>             <td>    5.4460</td> <td>    0.017</td> <td>  323.751</td> <td> 0.000</td> <td>    5.413</td> <td>    5.479</td>\n",
              "</tr>\n",
              "<tr>\n",
              "  <th>층</th>                 <td>    0.3523</td> <td>    0.007</td> <td>   49.851</td> <td> 0.000</td> <td>    0.338</td> <td>    0.366</td>\n",
              "</tr>\n",
              "<tr>\n",
              "  <th>KOSPI종가</th>           <td>   -0.0291</td> <td>    0.017</td> <td>   -1.718</td> <td> 0.086</td> <td>   -0.062</td> <td>    0.004</td>\n",
              "</tr>\n",
              "<tr>\n",
              "  <th>Fed기준금리</th>           <td>   -0.2423</td> <td>    0.009</td> <td>  -26.088</td> <td> 0.000</td> <td>   -0.260</td> <td>   -0.224</td>\n",
              "</tr>\n",
              "<tr>\n",
              "  <th>국제유가(Dubai)($/배럴)</th> <td>    0.1554</td> <td>    0.010</td> <td>   16.041</td> <td> 0.000</td> <td>    0.136</td> <td>    0.174</td>\n",
              "</tr>\n",
              "<tr>\n",
              "  <th>부동산거래량</th>            <td>   -0.0279</td> <td>    0.005</td> <td>   -5.484</td> <td> 0.000</td> <td>   -0.038</td> <td>   -0.018</td>\n",
              "</tr>\n",
              "<tr>\n",
              "  <th>국고채10년(평균)</th>        <td>    0.0124</td> <td>    0.018</td> <td>    0.678</td> <td> 0.498</td> <td>   -0.023</td> <td>    0.048</td>\n",
              "</tr>\n",
              "<tr>\n",
              "  <th>회사채3년(평균)</th>         <td>    0.1587</td> <td>    0.014</td> <td>   11.385</td> <td> 0.000</td> <td>    0.131</td> <td>    0.186</td>\n",
              "</tr>\n",
              "<tr>\n",
              "  <th>BOK기준금리</th>           <td>   -0.2639</td> <td>    0.014</td> <td>  -18.529</td> <td> 0.000</td> <td>   -0.292</td> <td>   -0.236</td>\n",
              "</tr>\n",
              "<tr>\n",
              "  <th>건물연식</th>              <td>    0.1271</td> <td>    0.004</td> <td>   33.165</td> <td> 0.000</td> <td>    0.120</td> <td>    0.135</td>\n",
              "</tr>\n",
              "<tr>\n",
              "  <th>GDP대비가계부채비율</th>       <td>   -0.1332</td> <td>    0.016</td> <td>   -8.302</td> <td> 0.000</td> <td>   -0.165</td> <td>   -0.102</td>\n",
              "</tr>\n",
              "<tr>\n",
              "  <th>환율종가</th>              <td>   -0.0043</td> <td>    0.008</td> <td>   -0.567</td> <td> 0.571</td> <td>   -0.019</td> <td>    0.011</td>\n",
              "</tr>\n",
              "<tr>\n",
              "  <th>선행지수순환변동치</th>         <td>    0.2452</td> <td>    0.012</td> <td>   21.081</td> <td> 0.000</td> <td>    0.222</td> <td>    0.268</td>\n",
              "</tr>\n",
              "<tr>\n",
              "  <th>장단기금리spread</th>       <td>   -0.4109</td> <td>    0.017</td> <td>  -24.308</td> <td> 0.000</td> <td>   -0.444</td> <td>   -0.378</td>\n",
              "</tr>\n",
              "<tr>\n",
              "  <th>금값종가</th>              <td>   -0.1983</td> <td>    0.015</td> <td>  -12.910</td> <td> 0.000</td> <td>   -0.228</td> <td>   -0.168</td>\n",
              "</tr>\n",
              "<tr>\n",
              "  <th>LTV</th>               <td>   -0.4338</td> <td>    0.006</td> <td>  -78.675</td> <td> 0.000</td> <td>   -0.445</td> <td>   -0.423</td>\n",
              "</tr>\n",
              "</table>\n",
              "<table class=\"simpletable\">\n",
              "<tr>\n",
              "  <th>Omnibus:</th>       <td>3536.982</td> <th>  Durbin-Watson:     </th> <td>   1.863</td>\n",
              "</tr>\n",
              "<tr>\n",
              "  <th>Prob(Omnibus):</th>  <td> 0.000</td>  <th>  Jarque-Bera (JB):  </th> <td>4096.012</td>\n",
              "</tr>\n",
              "<tr>\n",
              "  <th>Skew:</th>           <td> 0.482</td>  <th>  Prob(JB):          </th> <td>    0.00</td>\n",
              "</tr>\n",
              "<tr>\n",
              "  <th>Kurtosis:</th>       <td> 3.440</td>  <th>  Cond. No.          </th> <td>    79.5</td>\n",
              "</tr>\n",
              "</table><br/><br/>Notes:<br/>[1] Standard Errors assume that the covariance matrix of the errors is correctly specified."
            ]
          },
          "metadata": {},
          "execution_count": 32
        }
      ],
      "source": [
        "# OLS_4\n",
        "# 스케일링 후 predict\n",
        "import statsmodels.api as sm\n",
        "\n",
        "feature_add = sm.add_constant(X_scaled, has_constant='add')\n",
        "\n",
        "# sm OLS 적합\n",
        "model = sm.OLS(y_scaled , feature_add)\n",
        "fitted_model = model.fit()\n",
        "\n",
        "# summary 함수통해 결과출력\n",
        "fitted_model.summary()"
      ]
    },
    {
      "cell_type": "markdown",
      "source": [
        "### 환율종가 컬럼 삭제"
      ],
      "metadata": {
        "id": "3WfeNzZo78wR"
      },
      "id": "3WfeNzZo78wR"
    },
    {
      "cell_type": "code",
      "execution_count": null,
      "id": "c0887784",
      "metadata": {
        "id": "c0887784"
      },
      "outputs": [],
      "source": [
        "X_scaled.drop('환율종가', axis=1, inplace=True)"
      ]
    },
    {
      "cell_type": "markdown",
      "source": [
        "## OLS_5"
      ],
      "metadata": {
        "id": "lvwQFuXe7_ju"
      },
      "id": "lvwQFuXe7_ju"
    },
    {
      "cell_type": "code",
      "source": [
        "# OLS_5\n",
        "# 스케일링 후 predict\n",
        "import statsmodels.api as sm\n",
        "\n",
        "feature_add = sm.add_constant(X_scaled, has_constant='add')\n",
        "\n",
        "# sm OLS 적합\n",
        "model = sm.OLS(y_scaled , feature_add)\n",
        "fitted_model = model.fit()\n",
        "\n",
        "# summary 함수통해 결과출력\n",
        "fitted_model.summary()"
      ],
      "metadata": {
        "colab": {
          "base_uri": "https://localhost:8080/",
          "height": 729
        },
        "id": "CZn5Lkd-71Sh",
        "outputId": "21426550-2179-4394-d854-c6e13cd81c21"
      },
      "id": "CZn5Lkd-71Sh",
      "execution_count": null,
      "outputs": [
        {
          "output_type": "execute_result",
          "data": {
            "text/plain": [
              "<class 'statsmodels.iolib.summary.Summary'>\n",
              "\"\"\"\n",
              "                            OLS Regression Results                            \n",
              "==============================================================================\n",
              "Dep. Variable:               물건금액(만원)   R-squared:                       0.196\n",
              "Model:                            OLS   Adj. R-squared:                  0.196\n",
              "Method:                 Least Squares   F-statistic:                     1527.\n",
              "Date:                Sat, 01 Jul 2023   Prob (F-statistic):               0.00\n",
              "Time:                        10:12:02   Log-Likelihood:                 12022.\n",
              "No. Observations:               87518   AIC:                        -2.401e+04\n",
              "Df Residuals:                   87503   BIC:                        -2.387e+04\n",
              "Df Model:                          14                                         \n",
              "Covariance Type:            nonrobust                                         \n",
              "=====================================================================================\n",
              "                        coef    std err          t      P>|t|      [0.025      0.975]\n",
              "-------------------------------------------------------------------------------------\n",
              "const                 5.4405      0.014    399.222      0.000       5.414       5.467\n",
              "층                     0.3523      0.007     49.855      0.000       0.338       0.366\n",
              "KOSPI종가              -0.0263      0.016     -1.623      0.105      -0.058       0.005\n",
              "Fed기준금리              -0.2432      0.009    -26.590      0.000      -0.261      -0.225\n",
              "국제유가(Dubai)($/배럴)     0.1575      0.009     17.475      0.000       0.140       0.175\n",
              "부동산거래량               -0.0280      0.005     -5.503      0.000      -0.038      -0.018\n",
              "국고채10년(평균)            0.0109      0.018      0.601      0.548      -0.025       0.046\n",
              "회사채3년(평균)             0.1589      0.014     11.407      0.000       0.132       0.186\n",
              "BOK기준금리              -0.2621      0.014    -18.861      0.000      -0.289      -0.235\n",
              "건물연식                  0.1271      0.004     33.164      0.000       0.120       0.135\n",
              "GDP대비가계부채비율          -0.1343      0.016     -8.442      0.000      -0.166      -0.103\n",
              "선행지수순환변동치             0.2462      0.012     21.405      0.000       0.224       0.269\n",
              "장단기금리spread          -0.4100      0.017    -24.358      0.000      -0.443      -0.377\n",
              "금값종가                 -0.1968      0.015    -13.000      0.000      -0.226      -0.167\n",
              "LTV                  -0.4336      0.006    -78.822      0.000      -0.444      -0.423\n",
              "==============================================================================\n",
              "Omnibus:                     3536.631   Durbin-Watson:                   1.863\n",
              "Prob(Omnibus):                  0.000   Jarque-Bera (JB):             4095.466\n",
              "Skew:                           0.482   Prob(JB):                         0.00\n",
              "Kurtosis:                       3.440   Cond. No.                         76.4\n",
              "==============================================================================\n",
              "\n",
              "Notes:\n",
              "[1] Standard Errors assume that the covariance matrix of the errors is correctly specified.\n",
              "\"\"\""
            ],
            "text/html": [
              "<table class=\"simpletable\">\n",
              "<caption>OLS Regression Results</caption>\n",
              "<tr>\n",
              "  <th>Dep. Variable:</th>        <td>물건금액(만원)</td>     <th>  R-squared:         </th>  <td>   0.196</td> \n",
              "</tr>\n",
              "<tr>\n",
              "  <th>Model:</th>                   <td>OLS</td>       <th>  Adj. R-squared:    </th>  <td>   0.196</td> \n",
              "</tr>\n",
              "<tr>\n",
              "  <th>Method:</th>             <td>Least Squares</td>  <th>  F-statistic:       </th>  <td>   1527.</td> \n",
              "</tr>\n",
              "<tr>\n",
              "  <th>Date:</th>             <td>Sat, 01 Jul 2023</td> <th>  Prob (F-statistic):</th>   <td>  0.00</td>  \n",
              "</tr>\n",
              "<tr>\n",
              "  <th>Time:</th>                 <td>10:12:02</td>     <th>  Log-Likelihood:    </th>  <td>  12022.</td> \n",
              "</tr>\n",
              "<tr>\n",
              "  <th>No. Observations:</th>      <td> 87518</td>      <th>  AIC:               </th> <td>-2.401e+04</td>\n",
              "</tr>\n",
              "<tr>\n",
              "  <th>Df Residuals:</th>          <td> 87503</td>      <th>  BIC:               </th> <td>-2.387e+04</td>\n",
              "</tr>\n",
              "<tr>\n",
              "  <th>Df Model:</th>              <td>    14</td>      <th>                     </th>      <td> </td>    \n",
              "</tr>\n",
              "<tr>\n",
              "  <th>Covariance Type:</th>      <td>nonrobust</td>    <th>                     </th>      <td> </td>    \n",
              "</tr>\n",
              "</table>\n",
              "<table class=\"simpletable\">\n",
              "<tr>\n",
              "          <td></td>             <th>coef</th>     <th>std err</th>      <th>t</th>      <th>P>|t|</th>  <th>[0.025</th>    <th>0.975]</th>  \n",
              "</tr>\n",
              "<tr>\n",
              "  <th>const</th>             <td>    5.4405</td> <td>    0.014</td> <td>  399.222</td> <td> 0.000</td> <td>    5.414</td> <td>    5.467</td>\n",
              "</tr>\n",
              "<tr>\n",
              "  <th>층</th>                 <td>    0.3523</td> <td>    0.007</td> <td>   49.855</td> <td> 0.000</td> <td>    0.338</td> <td>    0.366</td>\n",
              "</tr>\n",
              "<tr>\n",
              "  <th>KOSPI종가</th>           <td>   -0.0263</td> <td>    0.016</td> <td>   -1.623</td> <td> 0.105</td> <td>   -0.058</td> <td>    0.005</td>\n",
              "</tr>\n",
              "<tr>\n",
              "  <th>Fed기준금리</th>           <td>   -0.2432</td> <td>    0.009</td> <td>  -26.590</td> <td> 0.000</td> <td>   -0.261</td> <td>   -0.225</td>\n",
              "</tr>\n",
              "<tr>\n",
              "  <th>국제유가(Dubai)($/배럴)</th> <td>    0.1575</td> <td>    0.009</td> <td>   17.475</td> <td> 0.000</td> <td>    0.140</td> <td>    0.175</td>\n",
              "</tr>\n",
              "<tr>\n",
              "  <th>부동산거래량</th>            <td>   -0.0280</td> <td>    0.005</td> <td>   -5.503</td> <td> 0.000</td> <td>   -0.038</td> <td>   -0.018</td>\n",
              "</tr>\n",
              "<tr>\n",
              "  <th>국고채10년(평균)</th>        <td>    0.0109</td> <td>    0.018</td> <td>    0.601</td> <td> 0.548</td> <td>   -0.025</td> <td>    0.046</td>\n",
              "</tr>\n",
              "<tr>\n",
              "  <th>회사채3년(평균)</th>         <td>    0.1589</td> <td>    0.014</td> <td>   11.407</td> <td> 0.000</td> <td>    0.132</td> <td>    0.186</td>\n",
              "</tr>\n",
              "<tr>\n",
              "  <th>BOK기준금리</th>           <td>   -0.2621</td> <td>    0.014</td> <td>  -18.861</td> <td> 0.000</td> <td>   -0.289</td> <td>   -0.235</td>\n",
              "</tr>\n",
              "<tr>\n",
              "  <th>건물연식</th>              <td>    0.1271</td> <td>    0.004</td> <td>   33.164</td> <td> 0.000</td> <td>    0.120</td> <td>    0.135</td>\n",
              "</tr>\n",
              "<tr>\n",
              "  <th>GDP대비가계부채비율</th>       <td>   -0.1343</td> <td>    0.016</td> <td>   -8.442</td> <td> 0.000</td> <td>   -0.166</td> <td>   -0.103</td>\n",
              "</tr>\n",
              "<tr>\n",
              "  <th>선행지수순환변동치</th>         <td>    0.2462</td> <td>    0.012</td> <td>   21.405</td> <td> 0.000</td> <td>    0.224</td> <td>    0.269</td>\n",
              "</tr>\n",
              "<tr>\n",
              "  <th>장단기금리spread</th>       <td>   -0.4100</td> <td>    0.017</td> <td>  -24.358</td> <td> 0.000</td> <td>   -0.443</td> <td>   -0.377</td>\n",
              "</tr>\n",
              "<tr>\n",
              "  <th>금값종가</th>              <td>   -0.1968</td> <td>    0.015</td> <td>  -13.000</td> <td> 0.000</td> <td>   -0.226</td> <td>   -0.167</td>\n",
              "</tr>\n",
              "<tr>\n",
              "  <th>LTV</th>               <td>   -0.4336</td> <td>    0.006</td> <td>  -78.822</td> <td> 0.000</td> <td>   -0.444</td> <td>   -0.423</td>\n",
              "</tr>\n",
              "</table>\n",
              "<table class=\"simpletable\">\n",
              "<tr>\n",
              "  <th>Omnibus:</th>       <td>3536.631</td> <th>  Durbin-Watson:     </th> <td>   1.863</td>\n",
              "</tr>\n",
              "<tr>\n",
              "  <th>Prob(Omnibus):</th>  <td> 0.000</td>  <th>  Jarque-Bera (JB):  </th> <td>4095.466</td>\n",
              "</tr>\n",
              "<tr>\n",
              "  <th>Skew:</th>           <td> 0.482</td>  <th>  Prob(JB):          </th> <td>    0.00</td>\n",
              "</tr>\n",
              "<tr>\n",
              "  <th>Kurtosis:</th>       <td> 3.440</td>  <th>  Cond. No.          </th> <td>    76.4</td>\n",
              "</tr>\n",
              "</table><br/><br/>Notes:<br/>[1] Standard Errors assume that the covariance matrix of the errors is correctly specified."
            ]
          },
          "metadata": {},
          "execution_count": 35
        }
      ]
    },
    {
      "cell_type": "markdown",
      "source": [
        "### 국고채10년(평균) 컬럼 삭제"
      ],
      "metadata": {
        "id": "sYJ1jfZL8EDB"
      },
      "id": "sYJ1jfZL8EDB"
    },
    {
      "cell_type": "code",
      "source": [
        "X_scaled.drop('국고채10년(평균)', axis=1, inplace=True)"
      ],
      "metadata": {
        "id": "ItsA_Q6t8H_w"
      },
      "id": "ItsA_Q6t8H_w",
      "execution_count": null,
      "outputs": []
    },
    {
      "cell_type": "markdown",
      "source": [
        "## OLS_6"
      ],
      "metadata": {
        "id": "sf-mCQT48KaB"
      },
      "id": "sf-mCQT48KaB"
    },
    {
      "cell_type": "code",
      "execution_count": null,
      "id": "66170e31",
      "metadata": {
        "id": "66170e31",
        "outputId": "bab9ea8f-1c01-4a05-e137-3ba35ad86884",
        "colab": {
          "base_uri": "https://localhost:8080/",
          "height": 708
        }
      },
      "outputs": [
        {
          "output_type": "execute_result",
          "data": {
            "text/plain": [
              "<class 'statsmodels.iolib.summary.Summary'>\n",
              "\"\"\"\n",
              "                            OLS Regression Results                            \n",
              "==============================================================================\n",
              "Dep. Variable:               물건금액(만원)   R-squared:                       0.196\n",
              "Model:                            OLS   Adj. R-squared:                  0.196\n",
              "Method:                 Least Squares   F-statistic:                     1644.\n",
              "Date:                Sat, 01 Jul 2023   Prob (F-statistic):               0.00\n",
              "Time:                        10:12:45   Log-Likelihood:                 12022.\n",
              "No. Observations:               87518   AIC:                        -2.402e+04\n",
              "Df Residuals:                   87504   BIC:                        -2.388e+04\n",
              "Df Model:                          13                                         \n",
              "Covariance Type:            nonrobust                                         \n",
              "=====================================================================================\n",
              "                        coef    std err          t      P>|t|      [0.025      0.975]\n",
              "-------------------------------------------------------------------------------------\n",
              "const                 5.4398      0.014    400.412      0.000       5.413       5.466\n",
              "층                     0.3523      0.007     49.861      0.000       0.338       0.366\n",
              "KOSPI종가              -0.0282      0.016     -1.775      0.076      -0.059       0.003\n",
              "Fed기준금리              -0.2419      0.009    -27.147      0.000      -0.259      -0.224\n",
              "국제유가(Dubai)($/배럴)     0.1572      0.009     17.469      0.000       0.140       0.175\n",
              "부동산거래량               -0.0281      0.005     -5.547      0.000      -0.038      -0.018\n",
              "회사채3년(평균)             0.1643      0.011     15.456      0.000       0.143       0.185\n",
              "BOK기준금리              -0.2599      0.013    -19.394      0.000      -0.286      -0.234\n",
              "건물연식                  0.1271      0.004     33.172      0.000       0.120       0.135\n",
              "GDP대비가계부채비율          -0.1345      0.016     -8.453      0.000      -0.166      -0.103\n",
              "선행지수순환변동치             0.2491      0.010     23.809      0.000       0.229       0.270\n",
              "장단기금리spread          -0.4070      0.016    -25.351      0.000      -0.438      -0.375\n",
              "금값종가                 -0.1989      0.015    -13.505      0.000      -0.228      -0.170\n",
              "LTV                  -0.4334      0.005    -78.928      0.000      -0.444      -0.423\n",
              "==============================================================================\n",
              "Omnibus:                     3536.843   Durbin-Watson:                   1.863\n",
              "Prob(Omnibus):                  0.000   Jarque-Bera (JB):             4095.731\n",
              "Skew:                           0.482   Prob(JB):                         0.00\n",
              "Kurtosis:                       3.440   Cond. No.                         74.0\n",
              "==============================================================================\n",
              "\n",
              "Notes:\n",
              "[1] Standard Errors assume that the covariance matrix of the errors is correctly specified.\n",
              "\"\"\""
            ],
            "text/html": [
              "<table class=\"simpletable\">\n",
              "<caption>OLS Regression Results</caption>\n",
              "<tr>\n",
              "  <th>Dep. Variable:</th>        <td>물건금액(만원)</td>     <th>  R-squared:         </th>  <td>   0.196</td> \n",
              "</tr>\n",
              "<tr>\n",
              "  <th>Model:</th>                   <td>OLS</td>       <th>  Adj. R-squared:    </th>  <td>   0.196</td> \n",
              "</tr>\n",
              "<tr>\n",
              "  <th>Method:</th>             <td>Least Squares</td>  <th>  F-statistic:       </th>  <td>   1644.</td> \n",
              "</tr>\n",
              "<tr>\n",
              "  <th>Date:</th>             <td>Sat, 01 Jul 2023</td> <th>  Prob (F-statistic):</th>   <td>  0.00</td>  \n",
              "</tr>\n",
              "<tr>\n",
              "  <th>Time:</th>                 <td>10:12:45</td>     <th>  Log-Likelihood:    </th>  <td>  12022.</td> \n",
              "</tr>\n",
              "<tr>\n",
              "  <th>No. Observations:</th>      <td> 87518</td>      <th>  AIC:               </th> <td>-2.402e+04</td>\n",
              "</tr>\n",
              "<tr>\n",
              "  <th>Df Residuals:</th>          <td> 87504</td>      <th>  BIC:               </th> <td>-2.388e+04</td>\n",
              "</tr>\n",
              "<tr>\n",
              "  <th>Df Model:</th>              <td>    13</td>      <th>                     </th>      <td> </td>    \n",
              "</tr>\n",
              "<tr>\n",
              "  <th>Covariance Type:</th>      <td>nonrobust</td>    <th>                     </th>      <td> </td>    \n",
              "</tr>\n",
              "</table>\n",
              "<table class=\"simpletable\">\n",
              "<tr>\n",
              "          <td></td>             <th>coef</th>     <th>std err</th>      <th>t</th>      <th>P>|t|</th>  <th>[0.025</th>    <th>0.975]</th>  \n",
              "</tr>\n",
              "<tr>\n",
              "  <th>const</th>             <td>    5.4398</td> <td>    0.014</td> <td>  400.412</td> <td> 0.000</td> <td>    5.413</td> <td>    5.466</td>\n",
              "</tr>\n",
              "<tr>\n",
              "  <th>층</th>                 <td>    0.3523</td> <td>    0.007</td> <td>   49.861</td> <td> 0.000</td> <td>    0.338</td> <td>    0.366</td>\n",
              "</tr>\n",
              "<tr>\n",
              "  <th>KOSPI종가</th>           <td>   -0.0282</td> <td>    0.016</td> <td>   -1.775</td> <td> 0.076</td> <td>   -0.059</td> <td>    0.003</td>\n",
              "</tr>\n",
              "<tr>\n",
              "  <th>Fed기준금리</th>           <td>   -0.2419</td> <td>    0.009</td> <td>  -27.147</td> <td> 0.000</td> <td>   -0.259</td> <td>   -0.224</td>\n",
              "</tr>\n",
              "<tr>\n",
              "  <th>국제유가(Dubai)($/배럴)</th> <td>    0.1572</td> <td>    0.009</td> <td>   17.469</td> <td> 0.000</td> <td>    0.140</td> <td>    0.175</td>\n",
              "</tr>\n",
              "<tr>\n",
              "  <th>부동산거래량</th>            <td>   -0.0281</td> <td>    0.005</td> <td>   -5.547</td> <td> 0.000</td> <td>   -0.038</td> <td>   -0.018</td>\n",
              "</tr>\n",
              "<tr>\n",
              "  <th>회사채3년(평균)</th>         <td>    0.1643</td> <td>    0.011</td> <td>   15.456</td> <td> 0.000</td> <td>    0.143</td> <td>    0.185</td>\n",
              "</tr>\n",
              "<tr>\n",
              "  <th>BOK기준금리</th>           <td>   -0.2599</td> <td>    0.013</td> <td>  -19.394</td> <td> 0.000</td> <td>   -0.286</td> <td>   -0.234</td>\n",
              "</tr>\n",
              "<tr>\n",
              "  <th>건물연식</th>              <td>    0.1271</td> <td>    0.004</td> <td>   33.172</td> <td> 0.000</td> <td>    0.120</td> <td>    0.135</td>\n",
              "</tr>\n",
              "<tr>\n",
              "  <th>GDP대비가계부채비율</th>       <td>   -0.1345</td> <td>    0.016</td> <td>   -8.453</td> <td> 0.000</td> <td>   -0.166</td> <td>   -0.103</td>\n",
              "</tr>\n",
              "<tr>\n",
              "  <th>선행지수순환변동치</th>         <td>    0.2491</td> <td>    0.010</td> <td>   23.809</td> <td> 0.000</td> <td>    0.229</td> <td>    0.270</td>\n",
              "</tr>\n",
              "<tr>\n",
              "  <th>장단기금리spread</th>       <td>   -0.4070</td> <td>    0.016</td> <td>  -25.351</td> <td> 0.000</td> <td>   -0.438</td> <td>   -0.375</td>\n",
              "</tr>\n",
              "<tr>\n",
              "  <th>금값종가</th>              <td>   -0.1989</td> <td>    0.015</td> <td>  -13.505</td> <td> 0.000</td> <td>   -0.228</td> <td>   -0.170</td>\n",
              "</tr>\n",
              "<tr>\n",
              "  <th>LTV</th>               <td>   -0.4334</td> <td>    0.005</td> <td>  -78.928</td> <td> 0.000</td> <td>   -0.444</td> <td>   -0.423</td>\n",
              "</tr>\n",
              "</table>\n",
              "<table class=\"simpletable\">\n",
              "<tr>\n",
              "  <th>Omnibus:</th>       <td>3536.843</td> <th>  Durbin-Watson:     </th> <td>   1.863</td>\n",
              "</tr>\n",
              "<tr>\n",
              "  <th>Prob(Omnibus):</th>  <td> 0.000</td>  <th>  Jarque-Bera (JB):  </th> <td>4095.731</td>\n",
              "</tr>\n",
              "<tr>\n",
              "  <th>Skew:</th>           <td> 0.482</td>  <th>  Prob(JB):          </th> <td>    0.00</td>\n",
              "</tr>\n",
              "<tr>\n",
              "  <th>Kurtosis:</th>       <td> 3.440</td>  <th>  Cond. No.          </th> <td>    74.0</td>\n",
              "</tr>\n",
              "</table><br/><br/>Notes:<br/>[1] Standard Errors assume that the covariance matrix of the errors is correctly specified."
            ]
          },
          "metadata": {},
          "execution_count": 37
        }
      ],
      "source": [
        "# OLS_6\n",
        "# 스케일링 후 predict\n",
        "import statsmodels.api as sm\n",
        "\n",
        "feature_add = sm.add_constant(X_scaled, has_constant='add')\n",
        "\n",
        "# sm OLS 적합\n",
        "model = sm.OLS(y_scaled , feature_add)\n",
        "fitted_model = model.fit()\n",
        "\n",
        "# summary 함수통해 결과출력\n",
        "fitted_model.summary()"
      ]
    },
    {
      "cell_type": "markdown",
      "source": [
        "### KOSPI종가 컬럼 삭제"
      ],
      "metadata": {
        "id": "yekb_ZR88Njn"
      },
      "id": "yekb_ZR88Njn"
    },
    {
      "cell_type": "code",
      "execution_count": null,
      "id": "1685d0dc",
      "metadata": {
        "id": "1685d0dc"
      },
      "outputs": [],
      "source": [
        "X_scaled.drop('KOSPI종가', axis=1, inplace=True)"
      ]
    },
    {
      "cell_type": "markdown",
      "source": [
        "## OLS_7"
      ],
      "metadata": {
        "id": "qbGBagDI8Q4E"
      },
      "id": "qbGBagDI8Q4E"
    },
    {
      "cell_type": "code",
      "execution_count": null,
      "id": "8db7ef54",
      "metadata": {
        "id": "8db7ef54",
        "outputId": "a7623b59-2ea0-4a30-f19b-734dcae73dfa",
        "colab": {
          "base_uri": "https://localhost:8080/",
          "height": 687
        }
      },
      "outputs": [
        {
          "output_type": "execute_result",
          "data": {
            "text/plain": [
              "<class 'statsmodels.iolib.summary.Summary'>\n",
              "\"\"\"\n",
              "                            OLS Regression Results                            \n",
              "==============================================================================\n",
              "Dep. Variable:               물건금액(만원)   R-squared:                       0.196\n",
              "Model:                            OLS   Adj. R-squared:                  0.196\n",
              "Method:                 Least Squares   F-statistic:                     1781.\n",
              "Date:                Sat, 01 Jul 2023   Prob (F-statistic):               0.00\n",
              "Time:                        10:13:18   Log-Likelihood:                 12020.\n",
              "No. Observations:               87518   AIC:                        -2.401e+04\n",
              "Df Residuals:                   87505   BIC:                        -2.389e+04\n",
              "Df Model:                          12                                         \n",
              "Covariance Type:            nonrobust                                         \n",
              "=====================================================================================\n",
              "                        coef    std err          t      P>|t|      [0.025      0.975]\n",
              "-------------------------------------------------------------------------------------\n",
              "const                 5.4374      0.014    402.178      0.000       5.411       5.464\n",
              "층                     0.3524      0.007     49.870      0.000       0.339       0.366\n",
              "Fed기준금리              -0.2417      0.009    -27.119      0.000      -0.259      -0.224\n",
              "국제유가(Dubai)($/배럴)     0.1538      0.009     17.488      0.000       0.137       0.171\n",
              "부동산거래량               -0.0304      0.005     -6.205      0.000      -0.040      -0.021\n",
              "회사채3년(평균)             0.1567      0.010     16.101      0.000       0.138       0.176\n",
              "BOK기준금리              -0.2612      0.013    -19.519      0.000      -0.287      -0.235\n",
              "건물연식                  0.1271      0.004     33.157      0.000       0.120       0.135\n",
              "GDP대비가계부채비율          -0.1341      0.016     -8.432      0.000      -0.165      -0.103\n",
              "선행지수순환변동치             0.2344      0.006     36.537      0.000       0.222       0.247\n",
              "장단기금리spread          -0.3984      0.015    -26.010      0.000      -0.428      -0.368\n",
              "금값종가                 -0.2103      0.013    -15.885      0.000      -0.236      -0.184\n",
              "LTV                  -0.4310      0.005    -80.936      0.000      -0.441      -0.421\n",
              "==============================================================================\n",
              "Omnibus:                     3534.985   Durbin-Watson:                   1.864\n",
              "Prob(Omnibus):                  0.000   Jarque-Bera (JB):             4092.346\n",
              "Skew:                           0.482   Prob(JB):                         0.00\n",
              "Kurtosis:                       3.439   Cond. No.                         67.7\n",
              "==============================================================================\n",
              "\n",
              "Notes:\n",
              "[1] Standard Errors assume that the covariance matrix of the errors is correctly specified.\n",
              "\"\"\""
            ],
            "text/html": [
              "<table class=\"simpletable\">\n",
              "<caption>OLS Regression Results</caption>\n",
              "<tr>\n",
              "  <th>Dep. Variable:</th>        <td>물건금액(만원)</td>     <th>  R-squared:         </th>  <td>   0.196</td> \n",
              "</tr>\n",
              "<tr>\n",
              "  <th>Model:</th>                   <td>OLS</td>       <th>  Adj. R-squared:    </th>  <td>   0.196</td> \n",
              "</tr>\n",
              "<tr>\n",
              "  <th>Method:</th>             <td>Least Squares</td>  <th>  F-statistic:       </th>  <td>   1781.</td> \n",
              "</tr>\n",
              "<tr>\n",
              "  <th>Date:</th>             <td>Sat, 01 Jul 2023</td> <th>  Prob (F-statistic):</th>   <td>  0.00</td>  \n",
              "</tr>\n",
              "<tr>\n",
              "  <th>Time:</th>                 <td>10:13:18</td>     <th>  Log-Likelihood:    </th>  <td>  12020.</td> \n",
              "</tr>\n",
              "<tr>\n",
              "  <th>No. Observations:</th>      <td> 87518</td>      <th>  AIC:               </th> <td>-2.401e+04</td>\n",
              "</tr>\n",
              "<tr>\n",
              "  <th>Df Residuals:</th>          <td> 87505</td>      <th>  BIC:               </th> <td>-2.389e+04</td>\n",
              "</tr>\n",
              "<tr>\n",
              "  <th>Df Model:</th>              <td>    12</td>      <th>                     </th>      <td> </td>    \n",
              "</tr>\n",
              "<tr>\n",
              "  <th>Covariance Type:</th>      <td>nonrobust</td>    <th>                     </th>      <td> </td>    \n",
              "</tr>\n",
              "</table>\n",
              "<table class=\"simpletable\">\n",
              "<tr>\n",
              "          <td></td>             <th>coef</th>     <th>std err</th>      <th>t</th>      <th>P>|t|</th>  <th>[0.025</th>    <th>0.975]</th>  \n",
              "</tr>\n",
              "<tr>\n",
              "  <th>const</th>             <td>    5.4374</td> <td>    0.014</td> <td>  402.178</td> <td> 0.000</td> <td>    5.411</td> <td>    5.464</td>\n",
              "</tr>\n",
              "<tr>\n",
              "  <th>층</th>                 <td>    0.3524</td> <td>    0.007</td> <td>   49.870</td> <td> 0.000</td> <td>    0.339</td> <td>    0.366</td>\n",
              "</tr>\n",
              "<tr>\n",
              "  <th>Fed기준금리</th>           <td>   -0.2417</td> <td>    0.009</td> <td>  -27.119</td> <td> 0.000</td> <td>   -0.259</td> <td>   -0.224</td>\n",
              "</tr>\n",
              "<tr>\n",
              "  <th>국제유가(Dubai)($/배럴)</th> <td>    0.1538</td> <td>    0.009</td> <td>   17.488</td> <td> 0.000</td> <td>    0.137</td> <td>    0.171</td>\n",
              "</tr>\n",
              "<tr>\n",
              "  <th>부동산거래량</th>            <td>   -0.0304</td> <td>    0.005</td> <td>   -6.205</td> <td> 0.000</td> <td>   -0.040</td> <td>   -0.021</td>\n",
              "</tr>\n",
              "<tr>\n",
              "  <th>회사채3년(평균)</th>         <td>    0.1567</td> <td>    0.010</td> <td>   16.101</td> <td> 0.000</td> <td>    0.138</td> <td>    0.176</td>\n",
              "</tr>\n",
              "<tr>\n",
              "  <th>BOK기준금리</th>           <td>   -0.2612</td> <td>    0.013</td> <td>  -19.519</td> <td> 0.000</td> <td>   -0.287</td> <td>   -0.235</td>\n",
              "</tr>\n",
              "<tr>\n",
              "  <th>건물연식</th>              <td>    0.1271</td> <td>    0.004</td> <td>   33.157</td> <td> 0.000</td> <td>    0.120</td> <td>    0.135</td>\n",
              "</tr>\n",
              "<tr>\n",
              "  <th>GDP대비가계부채비율</th>       <td>   -0.1341</td> <td>    0.016</td> <td>   -8.432</td> <td> 0.000</td> <td>   -0.165</td> <td>   -0.103</td>\n",
              "</tr>\n",
              "<tr>\n",
              "  <th>선행지수순환변동치</th>         <td>    0.2344</td> <td>    0.006</td> <td>   36.537</td> <td> 0.000</td> <td>    0.222</td> <td>    0.247</td>\n",
              "</tr>\n",
              "<tr>\n",
              "  <th>장단기금리spread</th>       <td>   -0.3984</td> <td>    0.015</td> <td>  -26.010</td> <td> 0.000</td> <td>   -0.428</td> <td>   -0.368</td>\n",
              "</tr>\n",
              "<tr>\n",
              "  <th>금값종가</th>              <td>   -0.2103</td> <td>    0.013</td> <td>  -15.885</td> <td> 0.000</td> <td>   -0.236</td> <td>   -0.184</td>\n",
              "</tr>\n",
              "<tr>\n",
              "  <th>LTV</th>               <td>   -0.4310</td> <td>    0.005</td> <td>  -80.936</td> <td> 0.000</td> <td>   -0.441</td> <td>   -0.421</td>\n",
              "</tr>\n",
              "</table>\n",
              "<table class=\"simpletable\">\n",
              "<tr>\n",
              "  <th>Omnibus:</th>       <td>3534.985</td> <th>  Durbin-Watson:     </th> <td>   1.864</td>\n",
              "</tr>\n",
              "<tr>\n",
              "  <th>Prob(Omnibus):</th>  <td> 0.000</td>  <th>  Jarque-Bera (JB):  </th> <td>4092.346</td>\n",
              "</tr>\n",
              "<tr>\n",
              "  <th>Skew:</th>           <td> 0.482</td>  <th>  Prob(JB):          </th> <td>    0.00</td>\n",
              "</tr>\n",
              "<tr>\n",
              "  <th>Kurtosis:</th>       <td> 3.439</td>  <th>  Cond. No.          </th> <td>    67.7</td>\n",
              "</tr>\n",
              "</table><br/><br/>Notes:<br/>[1] Standard Errors assume that the covariance matrix of the errors is correctly specified."
            ]
          },
          "metadata": {},
          "execution_count": 40
        }
      ],
      "source": [
        "# OLS_7\n",
        "# 스케일링 후 predict\n",
        "import statsmodels.api as sm\n",
        "\n",
        "feature_add = sm.add_constant(X_scaled, has_constant='add')\n",
        "\n",
        "# sm OLS 적합\n",
        "model = sm.OLS(y_scaled , feature_add)\n",
        "fitted_model = model.fit()\n",
        "\n",
        "# summary 함수통해 결과출력\n",
        "fitted_model.summary()"
      ]
    },
    {
      "cell_type": "markdown",
      "source": [
        "## VIF_7"
      ],
      "metadata": {
        "id": "gcVv6k0K8V6W"
      },
      "id": "gcVv6k0K8V6W"
    },
    {
      "cell_type": "code",
      "execution_count": null,
      "id": "3d45b227",
      "metadata": {
        "id": "3d45b227",
        "outputId": "f74cc053-1c6e-4402-bf11-7b7566e514ab",
        "colab": {
          "base_uri": "https://localhost:8080/"
        }
      },
      "outputs": [
        {
          "output_type": "stream",
          "name": "stdout",
          "text": [
            "    VIF_Factor            Feature\n",
            "0     4.226667                  층\n",
            "1    41.210203            Fed기준금리\n",
            "2    52.165194  국제유가(Dubai)($/배럴)\n",
            "3     8.645429             부동산거래량\n",
            "4    40.148555          회사채3년(평균)\n",
            "5    47.329424            BOK기준금리\n",
            "6     5.173614               건물연식\n",
            "7    66.681690        GDP대비가계부채비율\n",
            "8    30.863187          선행지수순환변동치\n",
            "9   118.498774        장단기금리spread\n",
            "10   43.592266               금값종가\n",
            "11   16.685356                LTV\n"
          ]
        }
      ],
      "source": [
        "# VIF_7\n",
        "vif = feature_engineering_XbyVIF(X_scaled)\n",
        "print(vif)"
      ]
    },
    {
      "cell_type": "markdown",
      "source": [
        "### 장단기금리spread 컬럼 삭제"
      ],
      "metadata": {
        "id": "MyfHR6nq8Zaf"
      },
      "id": "MyfHR6nq8Zaf"
    },
    {
      "cell_type": "code",
      "execution_count": null,
      "id": "a48dcced",
      "metadata": {
        "id": "a48dcced"
      },
      "outputs": [],
      "source": [
        "X_scaled.drop('장단기금리spread', axis=1, inplace=True)"
      ]
    },
    {
      "cell_type": "markdown",
      "source": [
        "## OLS_8"
      ],
      "metadata": {
        "id": "alM0m-hz8cEe"
      },
      "id": "alM0m-hz8cEe"
    },
    {
      "cell_type": "code",
      "execution_count": null,
      "id": "60f204ae",
      "metadata": {
        "id": "60f204ae",
        "outputId": "f930c799-1f02-4214-a391-160bfa199b42",
        "colab": {
          "base_uri": "https://localhost:8080/",
          "height": 665
        }
      },
      "outputs": [
        {
          "output_type": "execute_result",
          "data": {
            "text/plain": [
              "<class 'statsmodels.iolib.summary.Summary'>\n",
              "\"\"\"\n",
              "                            OLS Regression Results                            \n",
              "==============================================================================\n",
              "Dep. Variable:               물건금액(만원)   R-squared:                       0.190\n",
              "Model:                            OLS   Adj. R-squared:                  0.190\n",
              "Method:                 Least Squares   F-statistic:                     1867.\n",
              "Date:                Sat, 01 Jul 2023   Prob (F-statistic):               0.00\n",
              "Time:                        10:13:56   Log-Likelihood:                 11683.\n",
              "No. Observations:               87518   AIC:                        -2.334e+04\n",
              "Df Residuals:                   87506   BIC:                        -2.323e+04\n",
              "Df Model:                          11                                         \n",
              "Covariance Type:            nonrobust                                         \n",
              "=====================================================================================\n",
              "                        coef    std err          t      P>|t|      [0.025      0.975]\n",
              "-------------------------------------------------------------------------------------\n",
              "const                 5.2610      0.012    448.149      0.000       5.238       5.284\n",
              "층                     0.3555      0.007     50.130      0.000       0.342       0.369\n",
              "Fed기준금리              -0.2127      0.009    -23.963      0.000      -0.230      -0.195\n",
              "국제유가(Dubai)($/배럴)     0.0744      0.008      8.983      0.000       0.058       0.091\n",
              "부동산거래량               -0.0553      0.005    -11.449      0.000      -0.065      -0.046\n",
              "회사채3년(평균)            -0.0700      0.004    -16.110      0.000      -0.079      -0.062\n",
              "BOK기준금리              -0.0909      0.012     -7.756      0.000      -0.114      -0.068\n",
              "건물연식                  0.1305      0.004     33.937      0.000       0.123       0.138\n",
              "GDP대비가계부채비율          -0.0400      0.016     -2.572      0.010      -0.070      -0.010\n",
              "선행지수순환변동치             0.1113      0.004     25.599      0.000       0.103       0.120\n",
              "금값종가                 -0.1638      0.013    -12.436      0.000      -0.190      -0.138\n",
              "LTV                  -0.3976      0.005    -76.637      0.000      -0.408      -0.387\n",
              "==============================================================================\n",
              "Omnibus:                     3483.308   Durbin-Watson:                   1.859\n",
              "Prob(Omnibus):                  0.000   Jarque-Bera (JB):             4015.822\n",
              "Skew:                           0.480   Prob(JB):                         0.00\n",
              "Kurtosis:                       3.425   Cond. No.                         55.7\n",
              "==============================================================================\n",
              "\n",
              "Notes:\n",
              "[1] Standard Errors assume that the covariance matrix of the errors is correctly specified.\n",
              "\"\"\""
            ],
            "text/html": [
              "<table class=\"simpletable\">\n",
              "<caption>OLS Regression Results</caption>\n",
              "<tr>\n",
              "  <th>Dep. Variable:</th>        <td>물건금액(만원)</td>     <th>  R-squared:         </th>  <td>   0.190</td> \n",
              "</tr>\n",
              "<tr>\n",
              "  <th>Model:</th>                   <td>OLS</td>       <th>  Adj. R-squared:    </th>  <td>   0.190</td> \n",
              "</tr>\n",
              "<tr>\n",
              "  <th>Method:</th>             <td>Least Squares</td>  <th>  F-statistic:       </th>  <td>   1867.</td> \n",
              "</tr>\n",
              "<tr>\n",
              "  <th>Date:</th>             <td>Sat, 01 Jul 2023</td> <th>  Prob (F-statistic):</th>   <td>  0.00</td>  \n",
              "</tr>\n",
              "<tr>\n",
              "  <th>Time:</th>                 <td>10:13:56</td>     <th>  Log-Likelihood:    </th>  <td>  11683.</td> \n",
              "</tr>\n",
              "<tr>\n",
              "  <th>No. Observations:</th>      <td> 87518</td>      <th>  AIC:               </th> <td>-2.334e+04</td>\n",
              "</tr>\n",
              "<tr>\n",
              "  <th>Df Residuals:</th>          <td> 87506</td>      <th>  BIC:               </th> <td>-2.323e+04</td>\n",
              "</tr>\n",
              "<tr>\n",
              "  <th>Df Model:</th>              <td>    11</td>      <th>                     </th>      <td> </td>    \n",
              "</tr>\n",
              "<tr>\n",
              "  <th>Covariance Type:</th>      <td>nonrobust</td>    <th>                     </th>      <td> </td>    \n",
              "</tr>\n",
              "</table>\n",
              "<table class=\"simpletable\">\n",
              "<tr>\n",
              "          <td></td>             <th>coef</th>     <th>std err</th>      <th>t</th>      <th>P>|t|</th>  <th>[0.025</th>    <th>0.975]</th>  \n",
              "</tr>\n",
              "<tr>\n",
              "  <th>const</th>             <td>    5.2610</td> <td>    0.012</td> <td>  448.149</td> <td> 0.000</td> <td>    5.238</td> <td>    5.284</td>\n",
              "</tr>\n",
              "<tr>\n",
              "  <th>층</th>                 <td>    0.3555</td> <td>    0.007</td> <td>   50.130</td> <td> 0.000</td> <td>    0.342</td> <td>    0.369</td>\n",
              "</tr>\n",
              "<tr>\n",
              "  <th>Fed기준금리</th>           <td>   -0.2127</td> <td>    0.009</td> <td>  -23.963</td> <td> 0.000</td> <td>   -0.230</td> <td>   -0.195</td>\n",
              "</tr>\n",
              "<tr>\n",
              "  <th>국제유가(Dubai)($/배럴)</th> <td>    0.0744</td> <td>    0.008</td> <td>    8.983</td> <td> 0.000</td> <td>    0.058</td> <td>    0.091</td>\n",
              "</tr>\n",
              "<tr>\n",
              "  <th>부동산거래량</th>            <td>   -0.0553</td> <td>    0.005</td> <td>  -11.449</td> <td> 0.000</td> <td>   -0.065</td> <td>   -0.046</td>\n",
              "</tr>\n",
              "<tr>\n",
              "  <th>회사채3년(평균)</th>         <td>   -0.0700</td> <td>    0.004</td> <td>  -16.110</td> <td> 0.000</td> <td>   -0.079</td> <td>   -0.062</td>\n",
              "</tr>\n",
              "<tr>\n",
              "  <th>BOK기준금리</th>           <td>   -0.0909</td> <td>    0.012</td> <td>   -7.756</td> <td> 0.000</td> <td>   -0.114</td> <td>   -0.068</td>\n",
              "</tr>\n",
              "<tr>\n",
              "  <th>건물연식</th>              <td>    0.1305</td> <td>    0.004</td> <td>   33.937</td> <td> 0.000</td> <td>    0.123</td> <td>    0.138</td>\n",
              "</tr>\n",
              "<tr>\n",
              "  <th>GDP대비가계부채비율</th>       <td>   -0.0400</td> <td>    0.016</td> <td>   -2.572</td> <td> 0.010</td> <td>   -0.070</td> <td>   -0.010</td>\n",
              "</tr>\n",
              "<tr>\n",
              "  <th>선행지수순환변동치</th>         <td>    0.1113</td> <td>    0.004</td> <td>   25.599</td> <td> 0.000</td> <td>    0.103</td> <td>    0.120</td>\n",
              "</tr>\n",
              "<tr>\n",
              "  <th>금값종가</th>              <td>   -0.1638</td> <td>    0.013</td> <td>  -12.436</td> <td> 0.000</td> <td>   -0.190</td> <td>   -0.138</td>\n",
              "</tr>\n",
              "<tr>\n",
              "  <th>LTV</th>               <td>   -0.3976</td> <td>    0.005</td> <td>  -76.637</td> <td> 0.000</td> <td>   -0.408</td> <td>   -0.387</td>\n",
              "</tr>\n",
              "</table>\n",
              "<table class=\"simpletable\">\n",
              "<tr>\n",
              "  <th>Omnibus:</th>       <td>3483.308</td> <th>  Durbin-Watson:     </th> <td>   1.859</td>\n",
              "</tr>\n",
              "<tr>\n",
              "  <th>Prob(Omnibus):</th>  <td> 0.000</td>  <th>  Jarque-Bera (JB):  </th> <td>4015.822</td>\n",
              "</tr>\n",
              "<tr>\n",
              "  <th>Skew:</th>           <td> 0.480</td>  <th>  Prob(JB):          </th> <td>    0.00</td>\n",
              "</tr>\n",
              "<tr>\n",
              "  <th>Kurtosis:</th>       <td> 3.425</td>  <th>  Cond. No.          </th> <td>    55.7</td>\n",
              "</tr>\n",
              "</table><br/><br/>Notes:<br/>[1] Standard Errors assume that the covariance matrix of the errors is correctly specified."
            ]
          },
          "metadata": {},
          "execution_count": 43
        }
      ],
      "source": [
        "# OLS_8\n",
        "# 스케일링 후 predict\n",
        "import statsmodels.api as sm\n",
        "\n",
        "feature_add = sm.add_constant(X_scaled, has_constant='add')\n",
        "\n",
        "# sm OLS 적합\n",
        "model = sm.OLS(y_scaled , feature_add)\n",
        "fitted_model = model.fit()\n",
        "\n",
        "# summary 함수통해 결과출력\n",
        "fitted_model.summary()"
      ]
    },
    {
      "cell_type": "markdown",
      "source": [
        "## VIF_8"
      ],
      "metadata": {
        "id": "WlX_ltgP8gJM"
      },
      "id": "WlX_ltgP8gJM"
    },
    {
      "cell_type": "code",
      "execution_count": null,
      "id": "e1c20fdb",
      "metadata": {
        "id": "e1c20fdb",
        "outputId": "594d74ed-5ba9-4646-dae1-a89e7f274b27",
        "colab": {
          "base_uri": "https://localhost:8080/"
        }
      },
      "outputs": [
        {
          "output_type": "stream",
          "name": "stdout",
          "text": [
            "    VIF_Factor            Feature\n",
            "0     4.204337                  층\n",
            "1    38.860455            Fed기준금리\n",
            "2    47.618260  국제유가(Dubai)($/배럴)\n",
            "3     7.860685             부동산거래량\n",
            "4    10.340572          회사채3년(평균)\n",
            "5    46.308902            BOK기준금리\n",
            "6     5.158278               건물연식\n",
            "7    66.189402        GDP대비가계부채비율\n",
            "8    14.714433          선행지수순환변동치\n",
            "9    43.584715               금값종가\n",
            "10   16.456624                LTV\n"
          ]
        }
      ],
      "source": [
        "# VIF_8\n",
        "vif = feature_engineering_XbyVIF(X_scaled)\n",
        "print(vif)"
      ]
    },
    {
      "cell_type": "markdown",
      "source": [
        "### GDP대비가계부채비율 컬럼 삭제"
      ],
      "metadata": {
        "id": "X3f3ngaE8jfE"
      },
      "id": "X3f3ngaE8jfE"
    },
    {
      "cell_type": "code",
      "execution_count": null,
      "id": "6bceabc8",
      "metadata": {
        "id": "6bceabc8"
      },
      "outputs": [],
      "source": [
        "X_scaled.drop('GDP대비가계부채비율', axis=1, inplace=True)"
      ]
    },
    {
      "cell_type": "markdown",
      "source": [
        "## OLS_9"
      ],
      "metadata": {
        "id": "AmxP6f1M8l2d"
      },
      "id": "AmxP6f1M8l2d"
    },
    {
      "cell_type": "code",
      "execution_count": null,
      "id": "a2b681d1",
      "metadata": {
        "id": "a2b681d1",
        "outputId": "200f3bbf-e304-485e-f0c0-9dd0f21aeb1e",
        "colab": {
          "base_uri": "https://localhost:8080/",
          "height": 644
        }
      },
      "outputs": [
        {
          "output_type": "execute_result",
          "data": {
            "text/plain": [
              "<class 'statsmodels.iolib.summary.Summary'>\n",
              "\"\"\"\n",
              "                            OLS Regression Results                            \n",
              "==============================================================================\n",
              "Dep. Variable:               물건금액(만원)   R-squared:                       0.190\n",
              "Model:                            OLS   Adj. R-squared:                  0.190\n",
              "Method:                 Least Squares   F-statistic:                     2053.\n",
              "Date:                Sat, 01 Jul 2023   Prob (F-statistic):               0.00\n",
              "Time:                        10:14:36   Log-Likelihood:                 11680.\n",
              "No. Observations:               87518   AIC:                        -2.334e+04\n",
              "Df Residuals:                   87507   BIC:                        -2.324e+04\n",
              "Df Model:                          10                                         \n",
              "Covariance Type:            nonrobust                                         \n",
              "=====================================================================================\n",
              "                        coef    std err          t      P>|t|      [0.025      0.975]\n",
              "-------------------------------------------------------------------------------------\n",
              "const                 5.2445      0.010    533.500      0.000       5.225       5.264\n",
              "층                     0.3558      0.007     50.168      0.000       0.342       0.370\n",
              "Fed기준금리              -0.2250      0.007    -30.173      0.000      -0.240      -0.210\n",
              "국제유가(Dubai)($/배럴)     0.0708      0.008      8.675      0.000       0.055       0.087\n",
              "부동산거래량               -0.0557      0.005    -11.545      0.000      -0.065      -0.046\n",
              "회사채3년(평균)            -0.0731      0.004    -17.507      0.000      -0.081      -0.065\n",
              "BOK기준금리              -0.0697      0.008     -8.357      0.000      -0.086      -0.053\n",
              "건물연식                  0.1303      0.004     33.895      0.000       0.123       0.138\n",
              "선행지수순환변동치             0.1127      0.004     26.162      0.000       0.104       0.121\n",
              "금값종가                 -0.1852      0.010    -18.147      0.000      -0.205      -0.165\n",
              "LTV                  -0.3924      0.005    -82.002      0.000      -0.402      -0.383\n",
              "==============================================================================\n",
              "Omnibus:                     3491.246   Durbin-Watson:                   1.860\n",
              "Prob(Omnibus):                  0.000   Jarque-Bera (JB):             4023.265\n",
              "Skew:                           0.481   Prob(JB):                         0.00\n",
              "Kurtosis:                       3.423   Cond. No.                         38.1\n",
              "==============================================================================\n",
              "\n",
              "Notes:\n",
              "[1] Standard Errors assume that the covariance matrix of the errors is correctly specified.\n",
              "\"\"\""
            ],
            "text/html": [
              "<table class=\"simpletable\">\n",
              "<caption>OLS Regression Results</caption>\n",
              "<tr>\n",
              "  <th>Dep. Variable:</th>        <td>물건금액(만원)</td>     <th>  R-squared:         </th>  <td>   0.190</td> \n",
              "</tr>\n",
              "<tr>\n",
              "  <th>Model:</th>                   <td>OLS</td>       <th>  Adj. R-squared:    </th>  <td>   0.190</td> \n",
              "</tr>\n",
              "<tr>\n",
              "  <th>Method:</th>             <td>Least Squares</td>  <th>  F-statistic:       </th>  <td>   2053.</td> \n",
              "</tr>\n",
              "<tr>\n",
              "  <th>Date:</th>             <td>Sat, 01 Jul 2023</td> <th>  Prob (F-statistic):</th>   <td>  0.00</td>  \n",
              "</tr>\n",
              "<tr>\n",
              "  <th>Time:</th>                 <td>10:14:36</td>     <th>  Log-Likelihood:    </th>  <td>  11680.</td> \n",
              "</tr>\n",
              "<tr>\n",
              "  <th>No. Observations:</th>      <td> 87518</td>      <th>  AIC:               </th> <td>-2.334e+04</td>\n",
              "</tr>\n",
              "<tr>\n",
              "  <th>Df Residuals:</th>          <td> 87507</td>      <th>  BIC:               </th> <td>-2.324e+04</td>\n",
              "</tr>\n",
              "<tr>\n",
              "  <th>Df Model:</th>              <td>    10</td>      <th>                     </th>      <td> </td>    \n",
              "</tr>\n",
              "<tr>\n",
              "  <th>Covariance Type:</th>      <td>nonrobust</td>    <th>                     </th>      <td> </td>    \n",
              "</tr>\n",
              "</table>\n",
              "<table class=\"simpletable\">\n",
              "<tr>\n",
              "          <td></td>             <th>coef</th>     <th>std err</th>      <th>t</th>      <th>P>|t|</th>  <th>[0.025</th>    <th>0.975]</th>  \n",
              "</tr>\n",
              "<tr>\n",
              "  <th>const</th>             <td>    5.2445</td> <td>    0.010</td> <td>  533.500</td> <td> 0.000</td> <td>    5.225</td> <td>    5.264</td>\n",
              "</tr>\n",
              "<tr>\n",
              "  <th>층</th>                 <td>    0.3558</td> <td>    0.007</td> <td>   50.168</td> <td> 0.000</td> <td>    0.342</td> <td>    0.370</td>\n",
              "</tr>\n",
              "<tr>\n",
              "  <th>Fed기준금리</th>           <td>   -0.2250</td> <td>    0.007</td> <td>  -30.173</td> <td> 0.000</td> <td>   -0.240</td> <td>   -0.210</td>\n",
              "</tr>\n",
              "<tr>\n",
              "  <th>국제유가(Dubai)($/배럴)</th> <td>    0.0708</td> <td>    0.008</td> <td>    8.675</td> <td> 0.000</td> <td>    0.055</td> <td>    0.087</td>\n",
              "</tr>\n",
              "<tr>\n",
              "  <th>부동산거래량</th>            <td>   -0.0557</td> <td>    0.005</td> <td>  -11.545</td> <td> 0.000</td> <td>   -0.065</td> <td>   -0.046</td>\n",
              "</tr>\n",
              "<tr>\n",
              "  <th>회사채3년(평균)</th>         <td>   -0.0731</td> <td>    0.004</td> <td>  -17.507</td> <td> 0.000</td> <td>   -0.081</td> <td>   -0.065</td>\n",
              "</tr>\n",
              "<tr>\n",
              "  <th>BOK기준금리</th>           <td>   -0.0697</td> <td>    0.008</td> <td>   -8.357</td> <td> 0.000</td> <td>   -0.086</td> <td>   -0.053</td>\n",
              "</tr>\n",
              "<tr>\n",
              "  <th>건물연식</th>              <td>    0.1303</td> <td>    0.004</td> <td>   33.895</td> <td> 0.000</td> <td>    0.123</td> <td>    0.138</td>\n",
              "</tr>\n",
              "<tr>\n",
              "  <th>선행지수순환변동치</th>         <td>    0.1127</td> <td>    0.004</td> <td>   26.162</td> <td> 0.000</td> <td>    0.104</td> <td>    0.121</td>\n",
              "</tr>\n",
              "<tr>\n",
              "  <th>금값종가</th>              <td>   -0.1852</td> <td>    0.010</td> <td>  -18.147</td> <td> 0.000</td> <td>   -0.205</td> <td>   -0.165</td>\n",
              "</tr>\n",
              "<tr>\n",
              "  <th>LTV</th>               <td>   -0.3924</td> <td>    0.005</td> <td>  -82.002</td> <td> 0.000</td> <td>   -0.402</td> <td>   -0.383</td>\n",
              "</tr>\n",
              "</table>\n",
              "<table class=\"simpletable\">\n",
              "<tr>\n",
              "  <th>Omnibus:</th>       <td>3491.246</td> <th>  Durbin-Watson:     </th> <td>   1.860</td>\n",
              "</tr>\n",
              "<tr>\n",
              "  <th>Prob(Omnibus):</th>  <td> 0.000</td>  <th>  Jarque-Bera (JB):  </th> <td>4023.265</td>\n",
              "</tr>\n",
              "<tr>\n",
              "  <th>Skew:</th>           <td> 0.481</td>  <th>  Prob(JB):          </th> <td>    0.00</td>\n",
              "</tr>\n",
              "<tr>\n",
              "  <th>Kurtosis:</th>       <td> 3.423</td>  <th>  Cond. No.          </th> <td>    38.1</td>\n",
              "</tr>\n",
              "</table><br/><br/>Notes:<br/>[1] Standard Errors assume that the covariance matrix of the errors is correctly specified."
            ]
          },
          "metadata": {},
          "execution_count": 46
        }
      ],
      "source": [
        "# OLS_9\n",
        "# 스케일링 후 predict\n",
        "import statsmodels.api as sm\n",
        "\n",
        "feature_add = sm.add_constant(X_scaled, has_constant='add')\n",
        "\n",
        "# sm OLS 적합\n",
        "model = sm.OLS(y_scaled , feature_add)\n",
        "fitted_model = model.fit()\n",
        "\n",
        "# summary 함수통해 결과출력\n",
        "fitted_model.summary()"
      ]
    },
    {
      "cell_type": "markdown",
      "source": [
        "## VIF_9"
      ],
      "metadata": {
        "id": "Je6UhwXf8ofW"
      },
      "id": "Je6UhwXf8ofW"
    },
    {
      "cell_type": "code",
      "execution_count": null,
      "id": "749a2925",
      "metadata": {
        "id": "749a2925",
        "outputId": "9766023d-6781-4523-ca68-f665ec683e2f",
        "colab": {
          "base_uri": "https://localhost:8080/"
        }
      },
      "outputs": [
        {
          "output_type": "stream",
          "name": "stdout",
          "text": [
            "   VIF_Factor            Feature\n",
            "0    4.163942                  층\n",
            "1   29.279277            Fed기준금리\n",
            "2   45.996987  국제유가(Dubai)($/배럴)\n",
            "3    7.471868             부동산거래량\n",
            "4    9.624666          회사채3년(평균)\n",
            "5   33.481871            BOK기준금리\n",
            "6    5.068059               건물연식\n",
            "7   14.684479          선행지수순환변동치\n",
            "8    7.344821               금값종가\n",
            "9   16.360773                LTV\n"
          ]
        }
      ],
      "source": [
        "# VIF_9\n",
        "vif = feature_engineering_XbyVIF(X_scaled)\n",
        "print(vif)"
      ]
    },
    {
      "cell_type": "markdown",
      "source": [
        "### 국제유가(Dubai)($/배럴) 컬럼 삭제"
      ],
      "metadata": {
        "id": "0PmtQN5w8txz"
      },
      "id": "0PmtQN5w8txz"
    },
    {
      "cell_type": "code",
      "execution_count": null,
      "id": "7aadd3e3",
      "metadata": {
        "id": "7aadd3e3"
      },
      "outputs": [],
      "source": [
        "X_scaled.drop('국제유가(Dubai)($/배럴)', axis=1, inplace=True)"
      ]
    },
    {
      "cell_type": "markdown",
      "source": [
        "## OLS_10"
      ],
      "metadata": {
        "id": "dVtA7zBj8war"
      },
      "id": "dVtA7zBj8war"
    },
    {
      "cell_type": "code",
      "execution_count": null,
      "id": "8c85e5ab",
      "metadata": {
        "id": "8c85e5ab",
        "outputId": "11af762d-be04-4851-c1ff-02a72eae30fe",
        "colab": {
          "base_uri": "https://localhost:8080/",
          "height": 622
        }
      },
      "outputs": [
        {
          "output_type": "execute_result",
          "data": {
            "text/plain": [
              "<class 'statsmodels.iolib.summary.Summary'>\n",
              "\"\"\"\n",
              "                            OLS Regression Results                            \n",
              "==============================================================================\n",
              "Dep. Variable:               물건금액(만원)   R-squared:                       0.189\n",
              "Model:                            OLS   Adj. R-squared:                  0.189\n",
              "Method:                 Least Squares   F-statistic:                     2271.\n",
              "Date:                Sat, 01 Jul 2023   Prob (F-statistic):               0.00\n",
              "Time:                        10:15:10   Log-Likelihood:                 11642.\n",
              "No. Observations:               87518   AIC:                        -2.326e+04\n",
              "Df Residuals:                   87508   BIC:                        -2.317e+04\n",
              "Df Model:                           9                                         \n",
              "Covariance Type:            nonrobust                                         \n",
              "==============================================================================\n",
              "                 coef    std err          t      P>|t|      [0.025      0.975]\n",
              "------------------------------------------------------------------------------\n",
              "const          5.2516      0.010    535.849      0.000       5.232       5.271\n",
              "층              0.3553      0.007     50.085      0.000       0.341       0.369\n",
              "Fed기준금리       -0.1868      0.006    -31.027      0.000      -0.199      -0.175\n",
              "부동산거래량        -0.0449      0.005     -9.620      0.000      -0.054      -0.036\n",
              "회사채3년(평균)     -0.0605      0.004    -15.446      0.000      -0.068      -0.053\n",
              "BOK기준금리       -0.0646      0.008     -7.760      0.000      -0.081      -0.048\n",
              "건물연식           0.1302      0.004     33.856      0.000       0.123       0.138\n",
              "선행지수순환변동치      0.1166      0.004     27.190      0.000       0.108       0.125\n",
              "금값종가          -0.1817      0.010    -17.811      0.000      -0.202      -0.162\n",
              "LTV           -0.3916      0.005    -81.809      0.000      -0.401      -0.382\n",
              "==============================================================================\n",
              "Omnibus:                     3516.653   Durbin-Watson:                   1.859\n",
              "Prob(Omnibus):                  0.000   Jarque-Bera (JB):             4056.867\n",
              "Skew:                           0.483   Prob(JB):                         0.00\n",
              "Kurtosis:                       3.425   Cond. No.                         36.1\n",
              "==============================================================================\n",
              "\n",
              "Notes:\n",
              "[1] Standard Errors assume that the covariance matrix of the errors is correctly specified.\n",
              "\"\"\""
            ],
            "text/html": [
              "<table class=\"simpletable\">\n",
              "<caption>OLS Regression Results</caption>\n",
              "<tr>\n",
              "  <th>Dep. Variable:</th>        <td>물건금액(만원)</td>     <th>  R-squared:         </th>  <td>   0.189</td> \n",
              "</tr>\n",
              "<tr>\n",
              "  <th>Model:</th>                   <td>OLS</td>       <th>  Adj. R-squared:    </th>  <td>   0.189</td> \n",
              "</tr>\n",
              "<tr>\n",
              "  <th>Method:</th>             <td>Least Squares</td>  <th>  F-statistic:       </th>  <td>   2271.</td> \n",
              "</tr>\n",
              "<tr>\n",
              "  <th>Date:</th>             <td>Sat, 01 Jul 2023</td> <th>  Prob (F-statistic):</th>   <td>  0.00</td>  \n",
              "</tr>\n",
              "<tr>\n",
              "  <th>Time:</th>                 <td>10:15:10</td>     <th>  Log-Likelihood:    </th>  <td>  11642.</td> \n",
              "</tr>\n",
              "<tr>\n",
              "  <th>No. Observations:</th>      <td> 87518</td>      <th>  AIC:               </th> <td>-2.326e+04</td>\n",
              "</tr>\n",
              "<tr>\n",
              "  <th>Df Residuals:</th>          <td> 87508</td>      <th>  BIC:               </th> <td>-2.317e+04</td>\n",
              "</tr>\n",
              "<tr>\n",
              "  <th>Df Model:</th>              <td>     9</td>      <th>                     </th>      <td> </td>    \n",
              "</tr>\n",
              "<tr>\n",
              "  <th>Covariance Type:</th>      <td>nonrobust</td>    <th>                     </th>      <td> </td>    \n",
              "</tr>\n",
              "</table>\n",
              "<table class=\"simpletable\">\n",
              "<tr>\n",
              "      <td></td>         <th>coef</th>     <th>std err</th>      <th>t</th>      <th>P>|t|</th>  <th>[0.025</th>    <th>0.975]</th>  \n",
              "</tr>\n",
              "<tr>\n",
              "  <th>const</th>     <td>    5.2516</td> <td>    0.010</td> <td>  535.849</td> <td> 0.000</td> <td>    5.232</td> <td>    5.271</td>\n",
              "</tr>\n",
              "<tr>\n",
              "  <th>층</th>         <td>    0.3553</td> <td>    0.007</td> <td>   50.085</td> <td> 0.000</td> <td>    0.341</td> <td>    0.369</td>\n",
              "</tr>\n",
              "<tr>\n",
              "  <th>Fed기준금리</th>   <td>   -0.1868</td> <td>    0.006</td> <td>  -31.027</td> <td> 0.000</td> <td>   -0.199</td> <td>   -0.175</td>\n",
              "</tr>\n",
              "<tr>\n",
              "  <th>부동산거래량</th>    <td>   -0.0449</td> <td>    0.005</td> <td>   -9.620</td> <td> 0.000</td> <td>   -0.054</td> <td>   -0.036</td>\n",
              "</tr>\n",
              "<tr>\n",
              "  <th>회사채3년(평균)</th> <td>   -0.0605</td> <td>    0.004</td> <td>  -15.446</td> <td> 0.000</td> <td>   -0.068</td> <td>   -0.053</td>\n",
              "</tr>\n",
              "<tr>\n",
              "  <th>BOK기준금리</th>   <td>   -0.0646</td> <td>    0.008</td> <td>   -7.760</td> <td> 0.000</td> <td>   -0.081</td> <td>   -0.048</td>\n",
              "</tr>\n",
              "<tr>\n",
              "  <th>건물연식</th>      <td>    0.1302</td> <td>    0.004</td> <td>   33.856</td> <td> 0.000</td> <td>    0.123</td> <td>    0.138</td>\n",
              "</tr>\n",
              "<tr>\n",
              "  <th>선행지수순환변동치</th> <td>    0.1166</td> <td>    0.004</td> <td>   27.190</td> <td> 0.000</td> <td>    0.108</td> <td>    0.125</td>\n",
              "</tr>\n",
              "<tr>\n",
              "  <th>금값종가</th>      <td>   -0.1817</td> <td>    0.010</td> <td>  -17.811</td> <td> 0.000</td> <td>   -0.202</td> <td>   -0.162</td>\n",
              "</tr>\n",
              "<tr>\n",
              "  <th>LTV</th>       <td>   -0.3916</td> <td>    0.005</td> <td>  -81.809</td> <td> 0.000</td> <td>   -0.401</td> <td>   -0.382</td>\n",
              "</tr>\n",
              "</table>\n",
              "<table class=\"simpletable\">\n",
              "<tr>\n",
              "  <th>Omnibus:</th>       <td>3516.653</td> <th>  Durbin-Watson:     </th> <td>   1.859</td>\n",
              "</tr>\n",
              "<tr>\n",
              "  <th>Prob(Omnibus):</th>  <td> 0.000</td>  <th>  Jarque-Bera (JB):  </th> <td>4056.867</td>\n",
              "</tr>\n",
              "<tr>\n",
              "  <th>Skew:</th>           <td> 0.483</td>  <th>  Prob(JB):          </th> <td>    0.00</td>\n",
              "</tr>\n",
              "<tr>\n",
              "  <th>Kurtosis:</th>       <td> 3.425</td>  <th>  Cond. No.          </th> <td>    36.1</td>\n",
              "</tr>\n",
              "</table><br/><br/>Notes:<br/>[1] Standard Errors assume that the covariance matrix of the errors is correctly specified."
            ]
          },
          "metadata": {},
          "execution_count": 49
        }
      ],
      "source": [
        "# OLS_10\n",
        "# 스케일링 후 predict\n",
        "import statsmodels.api as sm\n",
        "\n",
        "feature_add = sm.add_constant(X_scaled, has_constant='add')\n",
        "\n",
        "# sm OLS 적합\n",
        "model = sm.OLS(y_scaled , feature_add)\n",
        "fitted_model = model.fit()\n",
        "\n",
        "# summary 함수통해 결과출력\n",
        "fitted_model.summary()"
      ]
    },
    {
      "cell_type": "markdown",
      "source": [
        "## VIF_10"
      ],
      "metadata": {
        "id": "wTG3pyy88zF5"
      },
      "id": "wTG3pyy88zF5"
    },
    {
      "cell_type": "code",
      "execution_count": null,
      "id": "d7124c59",
      "metadata": {
        "id": "d7124c59",
        "outputId": "cd36f91c-810c-4775-cdc0-0007752cc494",
        "colab": {
          "base_uri": "https://localhost:8080/"
        }
      },
      "outputs": [
        {
          "output_type": "stream",
          "name": "stdout",
          "text": [
            "   VIF_Factor    Feature\n",
            "0    4.163578          층\n",
            "1   18.800535    Fed기준금리\n",
            "2    6.768714     부동산거래량\n",
            "3    8.412239  회사채3년(평균)\n",
            "4   32.505375    BOK기준금리\n",
            "5    5.066914       건물연식\n",
            "6   14.492354  선행지수순환변동치\n",
            "7    7.008188       금값종가\n",
            "8   16.269579        LTV\n"
          ]
        }
      ],
      "source": [
        "# VIF_10\n",
        "vif = feature_engineering_XbyVIF(X_scaled)\n",
        "print(vif)"
      ]
    },
    {
      "cell_type": "markdown",
      "source": [
        "###  BOK기준금리 컬럼 삭제"
      ],
      "metadata": {
        "id": "vc7ySdm581Lb"
      },
      "id": "vc7ySdm581Lb"
    },
    {
      "cell_type": "code",
      "execution_count": null,
      "id": "8119d93e",
      "metadata": {
        "id": "8119d93e"
      },
      "outputs": [],
      "source": [
        "X_scaled.drop('BOK기준금리', axis=1, inplace=True)"
      ]
    },
    {
      "cell_type": "markdown",
      "source": [
        "## OLS_11"
      ],
      "metadata": {
        "id": "JCJZmsru83Bi"
      },
      "id": "JCJZmsru83Bi"
    },
    {
      "cell_type": "code",
      "execution_count": null,
      "id": "5bd48678",
      "metadata": {
        "id": "5bd48678",
        "outputId": "10be2567-b47d-47b7-bea2-d35a585ff4b8",
        "colab": {
          "base_uri": "https://localhost:8080/",
          "height": 601
        }
      },
      "outputs": [
        {
          "output_type": "execute_result",
          "data": {
            "text/plain": [
              "<class 'statsmodels.iolib.summary.Summary'>\n",
              "\"\"\"\n",
              "                            OLS Regression Results                            \n",
              "==============================================================================\n",
              "Dep. Variable:               물건금액(만원)   R-squared:                       0.189\n",
              "Model:                            OLS   Adj. R-squared:                  0.189\n",
              "Method:                 Least Squares   F-statistic:                     2545.\n",
              "Date:                Sat, 01 Jul 2023   Prob (F-statistic):               0.00\n",
              "Time:                        10:16:03   Log-Likelihood:                 11612.\n",
              "No. Observations:               87518   AIC:                        -2.321e+04\n",
              "Df Residuals:                   87509   BIC:                        -2.312e+04\n",
              "Df Model:                           8                                         \n",
              "Covariance Type:            nonrobust                                         \n",
              "==============================================================================\n",
              "                 coef    std err          t      P>|t|      [0.025      0.975]\n",
              "------------------------------------------------------------------------------\n",
              "const          5.1998      0.007    723.378      0.000       5.186       5.214\n",
              "층              0.3553      0.007     50.072      0.000       0.341       0.369\n",
              "Fed기준금리       -0.2130      0.005    -42.692      0.000      -0.223      -0.203\n",
              "부동산거래량        -0.0300      0.004     -7.054      0.000      -0.038      -0.022\n",
              "회사채3년(평균)     -0.0589      0.004    -15.056      0.000      -0.067      -0.051\n",
              "건물연식           0.1308      0.004     33.994      0.000       0.123       0.138\n",
              "선행지수순환변동치      0.1238      0.004     29.554      0.000       0.116       0.132\n",
              "금값종가          -0.1335      0.008    -16.494      0.000      -0.149      -0.118\n",
              "LTV           -0.3957      0.005    -83.149      0.000      -0.405      -0.386\n",
              "==============================================================================\n",
              "Omnibus:                     3523.637   Durbin-Watson:                   1.857\n",
              "Prob(Omnibus):                  0.000   Jarque-Bera (JB):             4067.840\n",
              "Skew:                           0.483   Prob(JB):                         0.00\n",
              "Kurtosis:                       3.428   Cond. No.                         26.2\n",
              "==============================================================================\n",
              "\n",
              "Notes:\n",
              "[1] Standard Errors assume that the covariance matrix of the errors is correctly specified.\n",
              "\"\"\""
            ],
            "text/html": [
              "<table class=\"simpletable\">\n",
              "<caption>OLS Regression Results</caption>\n",
              "<tr>\n",
              "  <th>Dep. Variable:</th>        <td>물건금액(만원)</td>     <th>  R-squared:         </th>  <td>   0.189</td> \n",
              "</tr>\n",
              "<tr>\n",
              "  <th>Model:</th>                   <td>OLS</td>       <th>  Adj. R-squared:    </th>  <td>   0.189</td> \n",
              "</tr>\n",
              "<tr>\n",
              "  <th>Method:</th>             <td>Least Squares</td>  <th>  F-statistic:       </th>  <td>   2545.</td> \n",
              "</tr>\n",
              "<tr>\n",
              "  <th>Date:</th>             <td>Sat, 01 Jul 2023</td> <th>  Prob (F-statistic):</th>   <td>  0.00</td>  \n",
              "</tr>\n",
              "<tr>\n",
              "  <th>Time:</th>                 <td>10:16:03</td>     <th>  Log-Likelihood:    </th>  <td>  11612.</td> \n",
              "</tr>\n",
              "<tr>\n",
              "  <th>No. Observations:</th>      <td> 87518</td>      <th>  AIC:               </th> <td>-2.321e+04</td>\n",
              "</tr>\n",
              "<tr>\n",
              "  <th>Df Residuals:</th>          <td> 87509</td>      <th>  BIC:               </th> <td>-2.312e+04</td>\n",
              "</tr>\n",
              "<tr>\n",
              "  <th>Df Model:</th>              <td>     8</td>      <th>                     </th>      <td> </td>    \n",
              "</tr>\n",
              "<tr>\n",
              "  <th>Covariance Type:</th>      <td>nonrobust</td>    <th>                     </th>      <td> </td>    \n",
              "</tr>\n",
              "</table>\n",
              "<table class=\"simpletable\">\n",
              "<tr>\n",
              "      <td></td>         <th>coef</th>     <th>std err</th>      <th>t</th>      <th>P>|t|</th>  <th>[0.025</th>    <th>0.975]</th>  \n",
              "</tr>\n",
              "<tr>\n",
              "  <th>const</th>     <td>    5.1998</td> <td>    0.007</td> <td>  723.378</td> <td> 0.000</td> <td>    5.186</td> <td>    5.214</td>\n",
              "</tr>\n",
              "<tr>\n",
              "  <th>층</th>         <td>    0.3553</td> <td>    0.007</td> <td>   50.072</td> <td> 0.000</td> <td>    0.341</td> <td>    0.369</td>\n",
              "</tr>\n",
              "<tr>\n",
              "  <th>Fed기준금리</th>   <td>   -0.2130</td> <td>    0.005</td> <td>  -42.692</td> <td> 0.000</td> <td>   -0.223</td> <td>   -0.203</td>\n",
              "</tr>\n",
              "<tr>\n",
              "  <th>부동산거래량</th>    <td>   -0.0300</td> <td>    0.004</td> <td>   -7.054</td> <td> 0.000</td> <td>   -0.038</td> <td>   -0.022</td>\n",
              "</tr>\n",
              "<tr>\n",
              "  <th>회사채3년(평균)</th> <td>   -0.0589</td> <td>    0.004</td> <td>  -15.056</td> <td> 0.000</td> <td>   -0.067</td> <td>   -0.051</td>\n",
              "</tr>\n",
              "<tr>\n",
              "  <th>건물연식</th>      <td>    0.1308</td> <td>    0.004</td> <td>   33.994</td> <td> 0.000</td> <td>    0.123</td> <td>    0.138</td>\n",
              "</tr>\n",
              "<tr>\n",
              "  <th>선행지수순환변동치</th> <td>    0.1238</td> <td>    0.004</td> <td>   29.554</td> <td> 0.000</td> <td>    0.116</td> <td>    0.132</td>\n",
              "</tr>\n",
              "<tr>\n",
              "  <th>금값종가</th>      <td>   -0.1335</td> <td>    0.008</td> <td>  -16.494</td> <td> 0.000</td> <td>   -0.149</td> <td>   -0.118</td>\n",
              "</tr>\n",
              "<tr>\n",
              "  <th>LTV</th>       <td>   -0.3957</td> <td>    0.005</td> <td>  -83.149</td> <td> 0.000</td> <td>   -0.405</td> <td>   -0.386</td>\n",
              "</tr>\n",
              "</table>\n",
              "<table class=\"simpletable\">\n",
              "<tr>\n",
              "  <th>Omnibus:</th>       <td>3523.637</td> <th>  Durbin-Watson:     </th> <td>   1.857</td>\n",
              "</tr>\n",
              "<tr>\n",
              "  <th>Prob(Omnibus):</th>  <td> 0.000</td>  <th>  Jarque-Bera (JB):  </th> <td>4067.840</td>\n",
              "</tr>\n",
              "<tr>\n",
              "  <th>Skew:</th>           <td> 0.483</td>  <th>  Prob(JB):          </th> <td>    0.00</td>\n",
              "</tr>\n",
              "<tr>\n",
              "  <th>Kurtosis:</th>       <td> 3.428</td>  <th>  Cond. No.          </th> <td>    26.2</td>\n",
              "</tr>\n",
              "</table><br/><br/>Notes:<br/>[1] Standard Errors assume that the covariance matrix of the errors is correctly specified."
            ]
          },
          "metadata": {},
          "execution_count": 54
        }
      ],
      "source": [
        "# OLS_11\n",
        "# 스케일링 후 predict\n",
        "import statsmodels.api as sm\n",
        "\n",
        "feature_add = sm.add_constant(X_scaled, has_constant='add')\n",
        "\n",
        "# sm OLS 적합\n",
        "model = sm.OLS(y_scaled , feature_add)\n",
        "fitted_model = model.fit()\n",
        "\n",
        "# summary 함수통해 결과출력\n",
        "fitted_model.summary()"
      ]
    },
    {
      "cell_type": "markdown",
      "source": [
        "## VIF_11"
      ],
      "metadata": {
        "id": "aQvMXgsI859O"
      },
      "id": "aQvMXgsI859O"
    },
    {
      "cell_type": "code",
      "execution_count": null,
      "id": "71dcced9",
      "metadata": {
        "id": "71dcced9",
        "outputId": "5bf6308b-3daf-409f-e783-5fc3d9534534",
        "colab": {
          "base_uri": "https://localhost:8080/"
        }
      },
      "outputs": [
        {
          "output_type": "stream",
          "name": "stdout",
          "text": [
            "   VIF_Factor    Feature\n",
            "0    4.019546          층\n",
            "1    3.778252    Fed기준금리\n",
            "2    6.413925     부동산거래량\n",
            "3    8.410699  회사채3년(평균)\n",
            "4    4.912801       건물연식\n",
            "5   14.048084  선행지수순환변동치\n",
            "6    6.981324       금값종가\n",
            "7    7.121541        LTV\n"
          ]
        }
      ],
      "source": [
        "# VIF_11\n",
        "vif = feature_engineering_XbyVIF(X_scaled)\n",
        "print(vif)"
      ]
    },
    {
      "cell_type": "markdown",
      "source": [
        "### 선행지수순환변동치 컬럼 삭제"
      ],
      "metadata": {
        "id": "FMpT2xb69AJr"
      },
      "id": "FMpT2xb69AJr"
    },
    {
      "cell_type": "code",
      "execution_count": null,
      "id": "684fb561",
      "metadata": {
        "id": "684fb561"
      },
      "outputs": [],
      "source": [
        "X_scaled.drop('선행지수순환변동치', axis=1, inplace=True)"
      ]
    },
    {
      "cell_type": "code",
      "execution_count": null,
      "id": "58fac0ff",
      "metadata": {
        "id": "58fac0ff",
        "outputId": "e808dfdb-c75a-4648-8052-1c2c26d98fd7",
        "colab": {
          "base_uri": "https://localhost:8080/",
          "height": 580
        }
      },
      "outputs": [
        {
          "output_type": "execute_result",
          "data": {
            "text/plain": [
              "<class 'statsmodels.iolib.summary.Summary'>\n",
              "\"\"\"\n",
              "                            OLS Regression Results                            \n",
              "==============================================================================\n",
              "Dep. Variable:               물건금액(만원)   R-squared:                       0.181\n",
              "Model:                            OLS   Adj. R-squared:                  0.181\n",
              "Method:                 Least Squares   F-statistic:                     2757.\n",
              "Date:                Sat, 01 Jul 2023   Prob (F-statistic):               0.00\n",
              "Time:                        10:16:27   Log-Likelihood:                 11178.\n",
              "No. Observations:               87518   AIC:                        -2.234e+04\n",
              "Df Residuals:                   87510   BIC:                        -2.226e+04\n",
              "Df Model:                           7                                         \n",
              "Covariance Type:            nonrobust                                         \n",
              "==============================================================================\n",
              "                 coef    std err          t      P>|t|      [0.025      0.975]\n",
              "------------------------------------------------------------------------------\n",
              "const          5.1950      0.007    719.313      0.000       5.181       5.209\n",
              "층              0.3598      0.007     50.453      0.000       0.346       0.374\n",
              "Fed기준금리       -0.2063      0.005    -41.181      0.000      -0.216      -0.196\n",
              "부동산거래량        -0.0216      0.004     -5.058      0.000      -0.030      -0.013\n",
              "회사채3년(평균)      0.0257      0.003      9.605      0.000       0.020       0.031\n",
              "건물연식           0.1308      0.004     33.849      0.000       0.123       0.138\n",
              "금값종가          -0.1478      0.008    -18.212      0.000      -0.164      -0.132\n",
              "LTV           -0.3383      0.004    -77.481      0.000      -0.347      -0.330\n",
              "==============================================================================\n",
              "Omnibus:                     3418.736   Durbin-Watson:                   1.856\n",
              "Prob(Omnibus):                  0.000   Jarque-Bera (JB):             3895.792\n",
              "Skew:                           0.482   Prob(JB):                         0.00\n",
              "Kurtosis:                       3.374   Cond. No.                         24.3\n",
              "==============================================================================\n",
              "\n",
              "Notes:\n",
              "[1] Standard Errors assume that the covariance matrix of the errors is correctly specified.\n",
              "\"\"\""
            ],
            "text/html": [
              "<table class=\"simpletable\">\n",
              "<caption>OLS Regression Results</caption>\n",
              "<tr>\n",
              "  <th>Dep. Variable:</th>        <td>물건금액(만원)</td>     <th>  R-squared:         </th>  <td>   0.181</td> \n",
              "</tr>\n",
              "<tr>\n",
              "  <th>Model:</th>                   <td>OLS</td>       <th>  Adj. R-squared:    </th>  <td>   0.181</td> \n",
              "</tr>\n",
              "<tr>\n",
              "  <th>Method:</th>             <td>Least Squares</td>  <th>  F-statistic:       </th>  <td>   2757.</td> \n",
              "</tr>\n",
              "<tr>\n",
              "  <th>Date:</th>             <td>Sat, 01 Jul 2023</td> <th>  Prob (F-statistic):</th>   <td>  0.00</td>  \n",
              "</tr>\n",
              "<tr>\n",
              "  <th>Time:</th>                 <td>10:16:27</td>     <th>  Log-Likelihood:    </th>  <td>  11178.</td> \n",
              "</tr>\n",
              "<tr>\n",
              "  <th>No. Observations:</th>      <td> 87518</td>      <th>  AIC:               </th> <td>-2.234e+04</td>\n",
              "</tr>\n",
              "<tr>\n",
              "  <th>Df Residuals:</th>          <td> 87510</td>      <th>  BIC:               </th> <td>-2.226e+04</td>\n",
              "</tr>\n",
              "<tr>\n",
              "  <th>Df Model:</th>              <td>     7</td>      <th>                     </th>      <td> </td>    \n",
              "</tr>\n",
              "<tr>\n",
              "  <th>Covariance Type:</th>      <td>nonrobust</td>    <th>                     </th>      <td> </td>    \n",
              "</tr>\n",
              "</table>\n",
              "<table class=\"simpletable\">\n",
              "<tr>\n",
              "      <td></td>         <th>coef</th>     <th>std err</th>      <th>t</th>      <th>P>|t|</th>  <th>[0.025</th>    <th>0.975]</th>  \n",
              "</tr>\n",
              "<tr>\n",
              "  <th>const</th>     <td>    5.1950</td> <td>    0.007</td> <td>  719.313</td> <td> 0.000</td> <td>    5.181</td> <td>    5.209</td>\n",
              "</tr>\n",
              "<tr>\n",
              "  <th>층</th>         <td>    0.3598</td> <td>    0.007</td> <td>   50.453</td> <td> 0.000</td> <td>    0.346</td> <td>    0.374</td>\n",
              "</tr>\n",
              "<tr>\n",
              "  <th>Fed기준금리</th>   <td>   -0.2063</td> <td>    0.005</td> <td>  -41.181</td> <td> 0.000</td> <td>   -0.216</td> <td>   -0.196</td>\n",
              "</tr>\n",
              "<tr>\n",
              "  <th>부동산거래량</th>    <td>   -0.0216</td> <td>    0.004</td> <td>   -5.058</td> <td> 0.000</td> <td>   -0.030</td> <td>   -0.013</td>\n",
              "</tr>\n",
              "<tr>\n",
              "  <th>회사채3년(평균)</th> <td>    0.0257</td> <td>    0.003</td> <td>    9.605</td> <td> 0.000</td> <td>    0.020</td> <td>    0.031</td>\n",
              "</tr>\n",
              "<tr>\n",
              "  <th>건물연식</th>      <td>    0.1308</td> <td>    0.004</td> <td>   33.849</td> <td> 0.000</td> <td>    0.123</td> <td>    0.138</td>\n",
              "</tr>\n",
              "<tr>\n",
              "  <th>금값종가</th>      <td>   -0.1478</td> <td>    0.008</td> <td>  -18.212</td> <td> 0.000</td> <td>   -0.164</td> <td>   -0.132</td>\n",
              "</tr>\n",
              "<tr>\n",
              "  <th>LTV</th>       <td>   -0.3383</td> <td>    0.004</td> <td>  -77.481</td> <td> 0.000</td> <td>   -0.347</td> <td>   -0.330</td>\n",
              "</tr>\n",
              "</table>\n",
              "<table class=\"simpletable\">\n",
              "<tr>\n",
              "  <th>Omnibus:</th>       <td>3418.736</td> <th>  Durbin-Watson:     </th> <td>   1.856</td>\n",
              "</tr>\n",
              "<tr>\n",
              "  <th>Prob(Omnibus):</th>  <td> 0.000</td>  <th>  Jarque-Bera (JB):  </th> <td>3895.792</td>\n",
              "</tr>\n",
              "<tr>\n",
              "  <th>Skew:</th>           <td> 0.482</td>  <th>  Prob(JB):          </th> <td>    0.00</td>\n",
              "</tr>\n",
              "<tr>\n",
              "  <th>Kurtosis:</th>       <td> 3.374</td>  <th>  Cond. No.          </th> <td>    24.3</td>\n",
              "</tr>\n",
              "</table><br/><br/>Notes:<br/>[1] Standard Errors assume that the covariance matrix of the errors is correctly specified."
            ]
          },
          "metadata": {},
          "execution_count": 57
        }
      ],
      "source": [
        "# OLS_12\n",
        "# 스케일링 후 predict\n",
        "import statsmodels.api as sm\n",
        "\n",
        "feature_add = sm.add_constant(X_scaled, has_constant='add')\n",
        "\n",
        "# sm OLS 적합\n",
        "model = sm.OLS(y_scaled , feature_add)\n",
        "fitted_model = model.fit()\n",
        "\n",
        "# summary 함수통해 결과출력\n",
        "fitted_model.summary()"
      ]
    },
    {
      "cell_type": "markdown",
      "source": [
        "## VIF_12"
      ],
      "metadata": {
        "id": "wffsn7li9D6k"
      },
      "id": "wffsn7li9D6k"
    },
    {
      "cell_type": "code",
      "execution_count": null,
      "id": "2e99c2f5",
      "metadata": {
        "id": "2e99c2f5",
        "outputId": "bf6e51c8-219b-42e0-b346-0b24a83be750",
        "colab": {
          "base_uri": "https://localhost:8080/"
        }
      },
      "outputs": [
        {
          "output_type": "stream",
          "name": "stdout",
          "text": [
            "   VIF_Factor    Feature\n",
            "0    4.018593          층\n",
            "1    3.769184    Fed기준금리\n",
            "2    6.387253     부동산거래량\n",
            "3    3.897239  회사채3년(평균)\n",
            "4    4.912645       건물연식\n",
            "5    6.877299       금값종가\n",
            "6    3.763900        LTV\n"
          ]
        }
      ],
      "source": [
        "# VIF_12\n",
        "vif = feature_engineering_XbyVIF(X_scaled)\n",
        "print(vif)"
      ]
    },
    {
      "cell_type": "markdown",
      "source": [
        "# LinearRegression"
      ],
      "metadata": {
        "id": "C3KDsAEH9NVF"
      },
      "id": "C3KDsAEH9NVF"
    },
    {
      "cell_type": "markdown",
      "source": [
        "## CV - R2, MSE"
      ],
      "metadata": {
        "id": "4UPsdtPt9OyQ"
      },
      "id": "4UPsdtPt9OyQ"
    },
    {
      "cell_type": "code",
      "execution_count": null,
      "id": "623cea5c",
      "metadata": {
        "id": "623cea5c"
      },
      "outputs": [],
      "source": [
        "# X_test 컬럼 -> X_scaled 기준(train)으로 맞추기\n",
        "X_test_scaled=X_test_scaled[X_scaled.columns]"
      ]
    },
    {
      "cell_type": "markdown",
      "source": [
        "## 교차검증"
      ],
      "metadata": {
        "id": "zl-kM_i-9RHr"
      },
      "id": "zl-kM_i-9RHr"
    },
    {
      "cell_type": "code",
      "execution_count": null,
      "id": "30f2042c",
      "metadata": {
        "id": "30f2042c",
        "colab": {
          "base_uri": "https://localhost:8080/"
        },
        "outputId": "1f91d5b8-1219-495a-e346-550b41b90dfd"
      },
      "outputs": [
        {
          "output_type": "stream",
          "name": "stdout",
          "text": [
            "Fold 1: Train Score_r2 = 0.18089,           Validation Score_r2 = -0.00743\n",
            "      Train Score_mse = 0.04525,           Validation Score_mse = 0.04679\n",
            "\n",
            "\n",
            "Fold 2: Train Score_r2 = 0.20976,           Validation Score_r2 = -0.06091\n",
            "      Train Score_mse = 0.04467,           Validation Score_mse = 0.04959\n",
            "\n",
            "\n",
            "Fold 3: Train Score_r2 = 0.2142,           Validation Score_r2 = -0.00238\n",
            "      Train Score_mse = 0.04458,           Validation Score_mse = 0.04957\n",
            "\n",
            "\n",
            "Fold 4: Train Score_r2 = 0.20657,           Validation Score_r2 = 0.0125\n",
            "      Train Score_mse = 0.04221,           Validation Score_mse = 0.05846\n",
            "\n",
            "\n",
            "Fold 5: Train Score_r2 = 0.09533,           Validation Score_r2 = -0.19288\n",
            "      Train Score_mse = 0.04843,           Validation Score_mse = 0.0604\n",
            "\n",
            "\n",
            "CV 평균 R2 : -0.0502\n",
            "CV 평균 MSE : 0.053\n"
          ]
        }
      ],
      "source": [
        "# CV\n",
        "\n",
        "from sklearn.model_selection import cross_validate\n",
        "from sklearn.metrics import mean_squared_error, mean_absolute_error, r2_score\n",
        "from sklearn.linear_model import LinearRegression\n",
        "\n",
        "model = LinearRegression()\n",
        "\n",
        "# 교차 검증을 통해 모델 평가 및 추정기 반환\n",
        "cv_results = cross_validate(model, X_scaled, y_scaled,\n",
        "                            scoring= ('r2', 'neg_mean_squared_error'),cv=5,\n",
        "                            return_train_score=True, return_estimator=True)\n",
        "\n",
        "train_scores_r2 = cv_results['train_r2']  # 훈련 점수\n",
        "test_scores_r2 = cv_results['test_r2']    # 검증 점수\n",
        "train_scores_mse = -cv_results['train_neg_mean_squared_error']\n",
        "test_scores_mse = -cv_results['test_neg_mean_squared_error']\n",
        "\n",
        "Validation_R2_score_mean = 0\n",
        "Validation_MSE_mean = 0\n",
        "\n",
        "# 훈련 점수와 검증 점수 출력\n",
        "for i in range(len(train_scores_r2)):\n",
        "   print(f\"Fold {i+1}: Train Score_r2 = {np.round(train_scores_r2[i],5)},\\\n",
        "           Validation Score_r2 = {np.round(test_scores_r2[i],5)}\")\n",
        "   print(f\"      Train Score_mse = {np.round(train_scores_mse[i],5)},\\\n",
        "           Validation Score_mse = {np.round(test_scores_mse[i],5)}\")\n",
        "   print('\\n')\n",
        "       # 마지막 평균 반환용\n",
        "   Validation_R2_score_mean += test_scores_r2[i]\n",
        "   Validation_MSE_mean += test_scores_mse[i]\n",
        "\n",
        "\n",
        "print(f'CV 평균 R2 : {np.round(Validation_R2_score_mean/5,4)}')\n",
        "print(f'CV 평균 MSE : {np.round(Validation_MSE_mean/5,4)}')"
      ]
    },
    {
      "cell_type": "markdown",
      "source": [
        "# 평가지표 train and test 시각화"
      ],
      "metadata": {
        "id": "TpoxHZh69Uj2"
      },
      "id": "TpoxHZh69Uj2"
    },
    {
      "cell_type": "code",
      "source": [
        "# R2\n",
        "import matplotlib.pyplot as plt\n",
        "\n",
        "train_scores = cv_results['train_r2']\n",
        "test_scores = cv_results['test_r2']\n",
        "\n",
        "# Fold 번호를 x축으로 설정하여 train_score와 test_score를 그래프로 출력\n",
        "fold_numbers = range(1, len(train_scores) + 1)\n",
        "\n",
        "plt.plot(fold_numbers, train_scores, label='Train Score')\n",
        "plt.plot(fold_numbers, test_scores, label='Test Score')\n",
        "\n",
        "plt.xlabel('Fold')\n",
        "plt.ylabel('Score')\n",
        "plt.title('Train Score vs Test Score')\n",
        "plt.legend()\n",
        "plt.show()"
      ],
      "metadata": {
        "colab": {
          "base_uri": "https://localhost:8080/",
          "height": 472
        },
        "id": "4Q9VCxRW9TEP",
        "outputId": "8e3d5c32-7c4e-4d50-b3cf-1b0b64e5879e"
      },
      "id": "4Q9VCxRW9TEP",
      "execution_count": null,
      "outputs": [
        {
          "output_type": "display_data",
          "data": {
            "text/plain": [
              "<Figure size 640x480 with 1 Axes>"
            ],
            "image/png": "[encoded data removed]"
          },
          "metadata": {}
        }
      ]
    },
    {
      "cell_type": "code",
      "source": [
        "# MSE\n",
        "import matplotlib.pyplot as plt\n",
        "\n",
        "train_scores = -cv_results['train_neg_mean_squared_error']\n",
        "test_scores = -cv_results['test_neg_mean_squared_error']\n",
        "\n",
        "# Fold 번호를 x축으로 설정하여 train_score와 test_score를 그래프로 출력\n",
        "fold_numbers = range(1, len(train_scores) + 1)\n",
        "\n",
        "plt.plot(fold_numbers, train_scores, label='Train Score')\n",
        "plt.plot(fold_numbers, test_scores, label='Test Score')\n",
        "\n",
        "plt.xlabel('Fold')\n",
        "plt.ylabel('Score')\n",
        "plt.title('Train Score vs Test Score')\n",
        "plt.legend()\n",
        "plt.show()"
      ],
      "metadata": {
        "colab": {
          "base_uri": "https://localhost:8080/",
          "height": 472
        },
        "id": "-zI10g0q9WQW",
        "outputId": "a4ef27a3-2fe5-455f-ce41-03916e4ce4a5"
      },
      "id": "-zI10g0q9WQW",
      "execution_count": null,
      "outputs": [
        {
          "output_type": "display_data",
          "data": {
            "text/plain": [
              "<Figure size 640x480 with 1 Axes>"
            ],
            "image/png": "[encoded data removed]"
          },
          "metadata": {}
        }
      ]
    },
    {
      "cell_type": "markdown",
      "source": [
        "# Model 확정\n",
        "- R2 그래프상 train & test 점수차이가 가장 적게 나는 모델 확정\n",
        "- 최종 네 번째로 확정"
      ],
      "metadata": {
        "id": "uyKExGpc9gPN"
      },
      "id": "uyKExGpc9gPN"
    },
    {
      "cell_type": "code",
      "source": [
        "# 최종 모델 - Predict & 평가지표\n",
        "\n",
        "y_pred = cv_results['estimator'][3].predict(X_test_scaled)\n",
        "mse = mean_squared_error(y_test_scaled, y_pred)\n",
        "rmse = np.sqrt(mse)\n",
        "mae = mean_absolute_error(y_test_scaled,y_pred)\n",
        "print('MSE : {0:.3f}, RMSE : {1: .3f}, MAE:{1: .3f}'.format(mse, rmse, mae))\n",
        "print('Variance score : {0: .3f}'.format(r2_score(y_test_scaled, y_pred)))\n",
        "print('\\n')"
      ],
      "metadata": {
        "colab": {
          "base_uri": "https://localhost:8080/"
        },
        "id": "MVMa95Lm9Y5L",
        "outputId": "08e61f6f-9156-4a2b-ad7c-9a77db087e7f"
      },
      "id": "MVMa95Lm9Y5L",
      "execution_count": null,
      "outputs": [
        {
          "output_type": "stream",
          "name": "stdout",
          "text": [
            "MSE : 0.049, RMSE :  0.222, MAE: 0.222\n",
            "Variance score :  0.210\n",
            "\n",
            "\n"
          ]
        }
      ]
    },
    {
      "cell_type": "code",
      "source": [
        "# test 계수 결과 DF\n",
        "\n",
        "test_result = pd.DataFrame(data= cv_results['estimator'][3].coef_, index = X_scaled.columns)\n",
        "\n",
        "test_result.columns = ['회귀계수']\n",
        "\n",
        "test_result.sort_values('회귀계수', ascending=False)"
      ],
      "metadata": {
        "colab": {
          "base_uri": "https://localhost:8080/",
          "height": 269
        },
        "id": "8GkSw_R19uLb",
        "outputId": "acdecbac-3a05-4f91-8691-48892fee469b"
      },
      "id": "8GkSw_R19uLb",
      "execution_count": null,
      "outputs": [
        {
          "output_type": "execute_result",
          "data": {
            "text/plain": [
              "               회귀계수\n",
              "층          0.348101\n",
              "건물연식       0.117769\n",
              "회사채3년(평균)  0.014925\n",
              "부동산거래량    -0.021661\n",
              "금값종가      -0.224263\n",
              "Fed기준금리   -0.246076\n",
              "LTV       -0.394380"
            ],
            "text/html": [
              "\n",
              "  <div id=\"df-fbbc5b81-69da-4976-99f8-f6993f6335ef\">\n",
              "    <div class=\"colab-df-container\">\n",
              "      <div>\n",
              "<style scoped>\n",
              "    .dataframe tbody tr th:only-of-type {\n",
              "        vertical-align: middle;\n",
              "    }\n",
              "\n",
              "    .dataframe tbody tr th {\n",
              "        vertical-align: top;\n",
              "    }\n",
              "\n",
              "    .dataframe thead th {\n",
              "        text-align: right;\n",
              "    }\n",
              "</style>\n",
              "<table border=\"1\" class=\"dataframe\">\n",
              "  <thead>\n",
              "    <tr style=\"text-align: right;\">\n",
              "      <th></th>\n",
              "      <th>회귀계수</th>\n",
              "    </tr>\n",
              "  </thead>\n",
              "  <tbody>\n",
              "    <tr>\n",
              "      <th>층</th>\n",
              "      <td>0.348101</td>\n",
              "    </tr>\n",
              "    <tr>\n",
              "      <th>건물연식</th>\n",
              "      <td>0.117769</td>\n",
              "    </tr>\n",
              "    <tr>\n",
              "      <th>회사채3년(평균)</th>\n",
              "      <td>0.014925</td>\n",
              "    </tr>\n",
              "    <tr>\n",
              "      <th>부동산거래량</th>\n",
              "      <td>-0.021661</td>\n",
              "    </tr>\n",
              "    <tr>\n",
              "      <th>금값종가</th>\n",
              "      <td>-0.224263</td>\n",
              "    </tr>\n",
              "    <tr>\n",
              "      <th>Fed기준금리</th>\n",
              "      <td>-0.246076</td>\n",
              "    </tr>\n",
              "    <tr>\n",
              "      <th>LTV</th>\n",
              "      <td>-0.394380</td>\n",
              "    </tr>\n",
              "  </tbody>\n",
              "</table>\n",
              "</div>\n",
              "      <button class=\"colab-df-convert\" onclick=\"convertToInteractive('df-fbbc5b81-69da-4976-99f8-f6993f6335ef')\"\n",
              "              title=\"Convert this dataframe to an interactive table.\"\n",
              "              style=\"display:none;\">\n",
              "        \n",
              "  <svg xmlns=\"http://www.w3.org/2000/svg\" height=\"24px\"viewBox=\"0 0 24 24\"\n",
              "       width=\"24px\">\n",
              "    <path d=\"M0 0h24v24H0V0z\" fill=\"none\"/>\n",
              "    <path d=\"M18.56 5.44l.94 2.06.94-2.06 2.06-.94-2.06-.94-.94-2.06-.94 2.06-2.06.94zm-11 1L8.5 8.5l.94-2.06 2.06-.94-2.06-.94L8.5 2.5l-.94 2.06-2.06.94zm10 10l.94 2.06.94-2.06 2.06-.94-2.06-.94-.94-2.06-.94 2.06-2.06.94z\"/><path d=\"M17.41 7.96l-1.37-1.37c-.4-.4-.92-.59-1.43-.59-.52 0-1.04.2-1.43.59L10.3 9.45l-7.72 7.72c-.78.78-.78 2.05 0 2.83L4 21.41c.39.39.9.59 1.41.59.51 0 1.02-.2 1.41-.59l7.78-7.78 2.81-2.81c.8-.78.8-2.07 0-2.86zM5.41 20L4 18.59l7.72-7.72 1.47 1.35L5.41 20z\"/>\n",
              "  </svg>\n",
              "      </button>\n",
              "      \n",
              "  <style>\n",
              "    .colab-df-container {\n",
              "      display:flex;\n",
              "      flex-wrap:wrap;\n",
              "      gap: 12px;\n",
              "    }\n",
              "\n",
              "    .colab-df-convert {\n",
              "      background-color: #E8F0FE;\n",
              "      border: none;\n",
              "      border-radius: 50%;\n",
              "      cursor: pointer;\n",
              "      display: none;\n",
              "      fill: #1967D2;\n",
              "      height: 32px;\n",
              "      padding: 0 0 0 0;\n",
              "      width: 32px;\n",
              "    }\n",
              "\n",
              "    .colab-df-convert:hover {\n",
              "      background-color: #E2EBFA;\n",
              "      box-shadow: 0px 1px 2px rgba(60, 64, 67, 0.3), 0px 1px 3px 1px rgba(60, 64, 67, 0.15);\n",
              "      fill: #174EA6;\n",
              "    }\n",
              "\n",
              "    [theme=dark] .colab-df-convert {\n",
              "      background-color: #3B4455;\n",
              "      fill: #D2E3FC;\n",
              "    }\n",
              "\n",
              "    [theme=dark] .colab-df-convert:hover {\n",
              "      background-color: #434B5C;\n",
              "      box-shadow: 0px 1px 3px 1px rgba(0, 0, 0, 0.15);\n",
              "      filter: drop-shadow(0px 1px 2px rgba(0, 0, 0, 0.3));\n",
              "      fill: #FFFFFF;\n",
              "    }\n",
              "  </style>\n",
              "\n",
              "      <script>\n",
              "        const buttonEl =\n",
              "          document.querySelector('#df-fbbc5b81-69da-4976-99f8-f6993f6335ef button.colab-df-convert');\n",
              "        buttonEl.style.display =\n",
              "          google.colab.kernel.accessAllowed ? 'block' : 'none';\n",
              "\n",
              "        async function convertToInteractive(key) {\n",
              "          const element = document.querySelector('#df-fbbc5b81-69da-4976-99f8-f6993f6335ef');\n",
              "          const dataTable =\n",
              "            await google.colab.kernel.invokeFunction('convertToInteractive',\n",
              "                                                     [key], {});\n",
              "          if (!dataTable) return;\n",
              "\n",
              "          const docLinkHtml = 'Like what you see? Visit the ' +\n",
              "            '<a target=\"_blank\" href=https://colab.research.google.com/notebooks/data_table.ipynb>data table notebook</a>'\n",
              "            + ' to learn more about interactive tables.';\n",
              "          element.innerHTML = '';\n",
              "          dataTable['output_type'] = 'display_data';\n",
              "          await google.colab.output.renderOutput(dataTable, element);\n",
              "          const docLink = document.createElement('div');\n",
              "          docLink.innerHTML = docLinkHtml;\n",
              "          element.appendChild(docLink);\n",
              "        }\n",
              "      </script>\n",
              "    </div>\n",
              "  </div>\n",
              "  "
            ]
          },
          "metadata": {},
          "execution_count": 64
        }
      ]
    },
    {
      "cell_type": "markdown",
      "source": [
        "# Ridge & Lasso"
      ],
      "metadata": {
        "id": "Hy2iR8gp9yFO"
      },
      "id": "Hy2iR8gp9yFO"
    },
    {
      "cell_type": "markdown",
      "source": [
        "## Ridge"
      ],
      "metadata": {
        "id": "_im14KWU9zD_"
      },
      "id": "_im14KWU9zD_"
    },
    {
      "cell_type": "code",
      "source": [
        "# Ridge\n",
        "from sklearn.linear_model import Ridge\n",
        "ridge = Ridge()\n",
        "ridge.fit(X_scaled, y_scaled)\n",
        "\n",
        "import matplotlib.pyplot as plt\n",
        "train_score = []\n",
        "test_score = []\n",
        "\n",
        "alpha_list = [0.001, 0.01, 0.1, 1, 10, 100]\n",
        "for alpha in alpha_list:\n",
        "    ridge = Ridge(alpha=alpha)\n",
        "    ridge.fit(X_scaled, y_scaled)\n",
        "    train_score.append(ridge.score(X_scaled, y_scaled))\n",
        "    test_score.append(ridge.score(X_test_scaled, y_test_scaled))\n",
        "\n",
        "plt.plot(np.log10(alpha_list), train_score, label='Train Score')\n",
        "plt.plot(np.log10(alpha_list), test_score, label='Test Score')\n",
        "plt.xlabel('alpha')\n",
        "plt.ylabel('r2_score')\n",
        "plt.legend()\n",
        "plt.show()"
      ],
      "metadata": {
        "colab": {
          "base_uri": "https://localhost:8080/",
          "height": 449
        },
        "id": "dawBxqLE9wUc",
        "outputId": "8134031d-2949-4bb2-d384-1f7f51b74a1c"
      },
      "id": "dawBxqLE9wUc",
      "execution_count": null,
      "outputs": [
        {
          "output_type": "display_data",
          "data": {
            "text/plain": [
              "<Figure size 640x480 with 1 Axes>"
            ],
            "image/png": "[encoded data removed]"
          },
          "metadata": {}
        }
      ]
    },
    {
      "cell_type": "markdown",
      "source": [
        "- 기본값 alpha = 1.0으로 진행 (alpha = 100은 규제를 너무 심하게 주는 것이라 생각)"
      ],
      "metadata": {
        "id": "RHqt6QBN94W7"
      },
      "id": "RHqt6QBN94W7"
    },
    {
      "cell_type": "markdown",
      "source": [
        "# CV"
      ],
      "metadata": {
        "id": "FV6guR3O-Fmn"
      },
      "id": "FV6guR3O-Fmn"
    },
    {
      "cell_type": "code",
      "source": [
        "# CV\n",
        "\n",
        "from sklearn.model_selection import cross_validate\n",
        "from sklearn.metrics import mean_squared_error, mean_absolute_error, r2_score\n",
        "from sklearn.linear_model import LinearRegression\n",
        "\n",
        "ridge = Ridge()\n",
        "ridge.fit(X_scaled, y_scaled)\n",
        "# 교차 검증을 통해 모델 평가 및 추정기 반환\n",
        "cv_results = cross_validate(ridge, X_scaled, y_scaled,\n",
        "                            scoring= ('r2', 'neg_mean_squared_error'),cv=5,\n",
        "                            return_train_score=True, return_estimator=True)\n",
        "\n",
        "train_scores_r2 = cv_results['train_r2']  # 훈련 점수\n",
        "test_scores_r2 = cv_results['test_r2']    # 검증 점수\n",
        "train_scores_mse = -cv_results['train_neg_mean_squared_error']\n",
        "test_scores_mse = -cv_results['test_neg_mean_squared_error']\n",
        "\n",
        "Validation_R2_score_mean = 0\n",
        "Validation_MSE_mean = 0\n",
        "\n",
        "# 훈련 점수와 검증 점수 출력\n",
        "for i in range(len(train_scores_r2)):\n",
        "   print(f\"Fold {i+1}: Train Score_r2 = {np.round(train_scores_r2[i],5)},\\\n",
        "           Validation Score_r2 = {np.round(test_scores_r2[i],5)}\")\n",
        "   print(f\"      Train Score_mse = {np.round(train_scores_mse[i],5)},\\\n",
        "           Validation Score_mse = {np.round(test_scores_mse[i],5)}\")\n",
        "   print('\\n')\n",
        "       # 마지막 평균 반환용\n",
        "   Validation_R2_score_mean += test_scores_r2[i]\n",
        "   Validation_MSE_mean += test_scores_mse[i]\n",
        "\n",
        "\n",
        "print(f'CV 평균 R2 : {np.round(Validation_R2_score_mean/5,4)}')\n",
        "print(f'CV 평균 MSE : {np.round(Validation_MSE_mean/5,4)}')"
      ],
      "metadata": {
        "colab": {
          "base_uri": "https://localhost:8080/"
        },
        "id": "b5PNJu9o91UD",
        "outputId": "35fa50af-2a42-46bd-c8c6-3c88db22d480"
      },
      "id": "b5PNJu9o91UD",
      "execution_count": null,
      "outputs": [
        {
          "output_type": "stream",
          "name": "stdout",
          "text": [
            "Fold 1: Train Score_r2 = 0.18089,           Validation Score_r2 = -0.00729\n",
            "      Train Score_mse = 0.04525,           Validation Score_mse = 0.04679\n",
            "\n",
            "\n",
            "Fold 2: Train Score_r2 = 0.20976,           Validation Score_r2 = -0.06077\n",
            "      Train Score_mse = 0.04467,           Validation Score_mse = 0.04958\n",
            "\n",
            "\n",
            "Fold 3: Train Score_r2 = 0.2142,           Validation Score_r2 = -0.00236\n",
            "      Train Score_mse = 0.04458,           Validation Score_mse = 0.04957\n",
            "\n",
            "\n",
            "Fold 4: Train Score_r2 = 0.20657,           Validation Score_r2 = 0.01258\n",
            "      Train Score_mse = 0.04221,           Validation Score_mse = 0.05845\n",
            "\n",
            "\n",
            "Fold 5: Train Score_r2 = 0.09533,           Validation Score_r2 = -0.19258\n",
            "      Train Score_mse = 0.04843,           Validation Score_mse = 0.06038\n",
            "\n",
            "\n",
            "CV 평균 R2 : -0.0501\n",
            "CV 평균 MSE : 0.053\n"
          ]
        }
      ]
    },
    {
      "cell_type": "markdown",
      "source": [
        "# 평가지표 train and test 차이 시각화"
      ],
      "metadata": {
        "id": "wfdZEnu3-I-3"
      },
      "id": "wfdZEnu3-I-3"
    },
    {
      "cell_type": "code",
      "source": [
        "import matplotlib.pyplot as plt\n",
        "\n",
        "train_scores = cv_results['train_r2']\n",
        "test_scores = cv_results['test_r2']\n",
        "\n",
        "# Fold 번호를 x축으로 설정하여 train_score와 test_score를 그래프로 출력\n",
        "fold_numbers = range(1, len(train_scores) + 1)\n",
        "\n",
        "plt.plot(fold_numbers, train_scores, label='Train Score')\n",
        "plt.plot(fold_numbers, test_scores, label='Test Score')\n",
        "\n",
        "plt.xlabel('Fold')\n",
        "plt.ylabel('Score')\n",
        "plt.title('Train Score vs Test Score')\n",
        "plt.legend()\n",
        "plt.show()"
      ],
      "metadata": {
        "colab": {
          "base_uri": "https://localhost:8080/",
          "height": 472
        },
        "id": "OfvUDCUC-HVh",
        "outputId": "0fa9b649-94c7-4bd1-ae33-ea12ee137c81"
      },
      "id": "OfvUDCUC-HVh",
      "execution_count": null,
      "outputs": [
        {
          "output_type": "display_data",
          "data": {
            "text/plain": [
              "<Figure size 640x480 with 1 Axes>"
            ],
            "image/png": "[encoded data removed]"
          },
          "metadata": {}
        }
      ]
    },
    {
      "cell_type": "code",
      "source": [
        "# ridge의 train, test r2 확인\n",
        "from sklearn.linear_model import Ridge\n",
        "ridge = Ridge()\n",
        "ridge.fit(X_scaled, y_scaled)\n",
        "print(ridge.score(X_scaled, y_scaled))\n",
        "print(ridge.score(X_test_scaled, y_test_scaled))"
      ],
      "metadata": {
        "colab": {
          "base_uri": "https://localhost:8080/"
        },
        "id": "122ebf7j-Kas",
        "outputId": "ccf3faa6-9e15-43a9-c060-ffa58113059e"
      },
      "id": "122ebf7j-Kas",
      "execution_count": null,
      "outputs": [
        {
          "output_type": "stream",
          "name": "stdout",
          "text": [
            "0.18066066819428572\n",
            "0.2245418650130322\n"
          ]
        }
      ]
    },
    {
      "cell_type": "code",
      "source": [
        "# 최종 모델 - Predict & 평가지표\n",
        "# Train 전체로 학습 시\n",
        "ridge.fit(X_scaled, y_scaled)\n",
        "y_pred = ridge.predict(X_test_scaled)\n",
        "mse = mean_squared_error(y_test_scaled, y_pred)\n",
        "rmse = np.sqrt(mse)\n",
        "mae = mean_absolute_error(y_test_scaled,y_pred)\n",
        "print('MSE : {0:.3f}, RMSE : {1: .3f}, MAE:{1: .3f}'.format(mse, rmse, mae))\n",
        "print('Variance score : {0: .3f}'.format(r2_score(y_test_scaled, y_pred)))\n",
        "print('\\n')"
      ],
      "metadata": {
        "colab": {
          "base_uri": "https://localhost:8080/"
        },
        "id": "o3ax76y0-MtV",
        "outputId": "fda7878e-98e9-4f24-a5c5-980e9ae39744"
      },
      "id": "o3ax76y0-MtV",
      "execution_count": null,
      "outputs": [
        {
          "output_type": "stream",
          "name": "stdout",
          "text": [
            "MSE : 0.048, RMSE :  0.220, MAE: 0.220\n",
            "Variance score :  0.225\n",
            "\n",
            "\n"
          ]
        }
      ]
    },
    {
      "cell_type": "code",
      "source": [
        "# 최종 모델 - Predict & 평가지표\n",
        "\n",
        "y_pred = cv_results['estimator'][3].predict(X_test_scaled)\n",
        "mse = mean_squared_error(y_test_scaled, y_pred)\n",
        "rmse = np.sqrt(mse)\n",
        "mae = mean_absolute_error(y_test_scaled,y_pred)\n",
        "print('MSE : {0:.3f}, RMSE : {1: .3f}, MAE:{1: .3f}'.format(mse, rmse, mae))\n",
        "print('Variance score : {0: .3f}'.format(r2_score(y_test_scaled, y_pred)))\n",
        "print('\\n')"
      ],
      "metadata": {
        "colab": {
          "base_uri": "https://localhost:8080/"
        },
        "id": "JZltN2_y-OKG",
        "outputId": "a5044593-5417-492c-800b-13efb530bfb8"
      },
      "id": "JZltN2_y-OKG",
      "execution_count": null,
      "outputs": [
        {
          "output_type": "stream",
          "name": "stdout",
          "text": [
            "MSE : 0.049, RMSE :  0.222, MAE: 0.222\n",
            "Variance score :  0.210\n",
            "\n",
            "\n"
          ]
        }
      ]
    },
    {
      "cell_type": "code",
      "source": [
        "# Ridge 회귀계수\n",
        "ridge_df = pd.DataFrame(data = cv_results['estimator'][3].coef_, index = X_scaled.columns)\n",
        "ridge_df.columns = ['회귀계수']\n",
        "ridge_df.sort_values(by = '회귀계수',ascending=False)"
      ],
      "metadata": {
        "colab": {
          "base_uri": "https://localhost:8080/",
          "height": 269
        },
        "id": "t-6ntlPC-PQG",
        "outputId": "4d76dea8-947b-40aa-ea0b-200db7825fb3"
      },
      "id": "t-6ntlPC-PQG",
      "execution_count": null,
      "outputs": [
        {
          "output_type": "execute_result",
          "data": {
            "text/plain": [
              "               회귀계수\n",
              "층          0.347620\n",
              "건물연식       0.117658\n",
              "회사채3년(평균)  0.014851\n",
              "부동산거래량    -0.021778\n",
              "금값종가      -0.223373\n",
              "Fed기준금리   -0.245553\n",
              "LTV       -0.393931"
            ],
            "text/html": [
              "\n",
              "  <div id=\"df-ea849bf7-1b23-4bee-bd41-83aa8ccb60dd\">\n",
              "    <div class=\"colab-df-container\">\n",
              "      <div>\n",
              "<style scoped>\n",
              "    .dataframe tbody tr th:only-of-type {\n",
              "        vertical-align: middle;\n",
              "    }\n",
              "\n",
              "    .dataframe tbody tr th {\n",
              "        vertical-align: top;\n",
              "    }\n",
              "\n",
              "    .dataframe thead th {\n",
              "        text-align: right;\n",
              "    }\n",
              "</style>\n",
              "<table border=\"1\" class=\"dataframe\">\n",
              "  <thead>\n",
              "    <tr style=\"text-align: right;\">\n",
              "      <th></th>\n",
              "      <th>회귀계수</th>\n",
              "    </tr>\n",
              "  </thead>\n",
              "  <tbody>\n",
              "    <tr>\n",
              "      <th>층</th>\n",
              "      <td>0.347620</td>\n",
              "    </tr>\n",
              "    <tr>\n",
              "      <th>건물연식</th>\n",
              "      <td>0.117658</td>\n",
              "    </tr>\n",
              "    <tr>\n",
              "      <th>회사채3년(평균)</th>\n",
              "      <td>0.014851</td>\n",
              "    </tr>\n",
              "    <tr>\n",
              "      <th>부동산거래량</th>\n",
              "      <td>-0.021778</td>\n",
              "    </tr>\n",
              "    <tr>\n",
              "      <th>금값종가</th>\n",
              "      <td>-0.223373</td>\n",
              "    </tr>\n",
              "    <tr>\n",
              "      <th>Fed기준금리</th>\n",
              "      <td>-0.245553</td>\n",
              "    </tr>\n",
              "    <tr>\n",
              "      <th>LTV</th>\n",
              "      <td>-0.393931</td>\n",
              "    </tr>\n",
              "  </tbody>\n",
              "</table>\n",
              "</div>\n",
              "      <button class=\"colab-df-convert\" onclick=\"convertToInteractive('df-ea849bf7-1b23-4bee-bd41-83aa8ccb60dd')\"\n",
              "              title=\"Convert this dataframe to an interactive table.\"\n",
              "              style=\"display:none;\">\n",
              "        \n",
              "  <svg xmlns=\"http://www.w3.org/2000/svg\" height=\"24px\"viewBox=\"0 0 24 24\"\n",
              "       width=\"24px\">\n",
              "    <path d=\"M0 0h24v24H0V0z\" fill=\"none\"/>\n",
              "    <path d=\"M18.56 5.44l.94 2.06.94-2.06 2.06-.94-2.06-.94-.94-2.06-.94 2.06-2.06.94zm-11 1L8.5 8.5l.94-2.06 2.06-.94-2.06-.94L8.5 2.5l-.94 2.06-2.06.94zm10 10l.94 2.06.94-2.06 2.06-.94-2.06-.94-.94-2.06-.94 2.06-2.06.94z\"/><path d=\"M17.41 7.96l-1.37-1.37c-.4-.4-.92-.59-1.43-.59-.52 0-1.04.2-1.43.59L10.3 9.45l-7.72 7.72c-.78.78-.78 2.05 0 2.83L4 21.41c.39.39.9.59 1.41.59.51 0 1.02-.2 1.41-.59l7.78-7.78 2.81-2.81c.8-.78.8-2.07 0-2.86zM5.41 20L4 18.59l7.72-7.72 1.47 1.35L5.41 20z\"/>\n",
              "  </svg>\n",
              "      </button>\n",
              "      \n",
              "  <style>\n",
              "    .colab-df-container {\n",
              "      display:flex;\n",
              "      flex-wrap:wrap;\n",
              "      gap: 12px;\n",
              "    }\n",
              "\n",
              "    .colab-df-convert {\n",
              "      background-color: #E8F0FE;\n",
              "      border: none;\n",
              "      border-radius: 50%;\n",
              "      cursor: pointer;\n",
              "      display: none;\n",
              "      fill: #1967D2;\n",
              "      height: 32px;\n",
              "      padding: 0 0 0 0;\n",
              "      width: 32px;\n",
              "    }\n",
              "\n",
              "    .colab-df-convert:hover {\n",
              "      background-color: #E2EBFA;\n",
              "      box-shadow: 0px 1px 2px rgba(60, 64, 67, 0.3), 0px 1px 3px 1px rgba(60, 64, 67, 0.15);\n",
              "      fill: #174EA6;\n",
              "    }\n",
              "\n",
              "    [theme=dark] .colab-df-convert {\n",
              "      background-color: #3B4455;\n",
              "      fill: #D2E3FC;\n",
              "    }\n",
              "\n",
              "    [theme=dark] .colab-df-convert:hover {\n",
              "      background-color: #434B5C;\n",
              "      box-shadow: 0px 1px 3px 1px rgba(0, 0, 0, 0.15);\n",
              "      filter: drop-shadow(0px 1px 2px rgba(0, 0, 0, 0.3));\n",
              "      fill: #FFFFFF;\n",
              "    }\n",
              "  </style>\n",
              "\n",
              "      <script>\n",
              "        const buttonEl =\n",
              "          document.querySelector('#df-ea849bf7-1b23-4bee-bd41-83aa8ccb60dd button.colab-df-convert');\n",
              "        buttonEl.style.display =\n",
              "          google.colab.kernel.accessAllowed ? 'block' : 'none';\n",
              "\n",
              "        async function convertToInteractive(key) {\n",
              "          const element = document.querySelector('#df-ea849bf7-1b23-4bee-bd41-83aa8ccb60dd');\n",
              "          const dataTable =\n",
              "            await google.colab.kernel.invokeFunction('convertToInteractive',\n",
              "                                                     [key], {});\n",
              "          if (!dataTable) return;\n",
              "\n",
              "          const docLinkHtml = 'Like what you see? Visit the ' +\n",
              "            '<a target=\"_blank\" href=https://colab.research.google.com/notebooks/data_table.ipynb>data table notebook</a>'\n",
              "            + ' to learn more about interactive tables.';\n",
              "          element.innerHTML = '';\n",
              "          dataTable['output_type'] = 'display_data';\n",
              "          await google.colab.output.renderOutput(dataTable, element);\n",
              "          const docLink = document.createElement('div');\n",
              "          docLink.innerHTML = docLinkHtml;\n",
              "          element.appendChild(docLink);\n",
              "        }\n",
              "      </script>\n",
              "    </div>\n",
              "  </div>\n",
              "  "
            ]
          },
          "metadata": {},
          "execution_count": 72
        }
      ]
    },
    {
      "cell_type": "code",
      "source": [],
      "metadata": {
        "id": "q_IzhgYL-SAX"
      },
      "id": "q_IzhgYL-SAX",
      "execution_count": null,
      "outputs": []
    }
  ],
  "metadata": {
    "kernelspec": {
      "display_name": "Python 3 (ipykernel)",
      "language": "python",
      "name": "python3"
    },
    "language_info": {
      "codemirror_mode": {
        "name": "ipython",
        "version": 3
      },
      "file_extension": ".py",
      "mimetype": "text/x-python",
      "name": "python",
      "nbconvert_exporter": "python",
      "pygments_lexer": "ipython3",
      "version": "3.11.2"
    },
    "colab": {
      "provenance": []
    }
  },
  "nbformat": 4,
  "nbformat_minor": 5
}